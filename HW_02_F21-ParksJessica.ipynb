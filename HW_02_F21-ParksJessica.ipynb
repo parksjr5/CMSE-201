{
 "cells": [
  {
   "cell_type": "markdown",
   "id": "619993b2",
   "metadata": {},
   "source": [
    "# Homework 2: If Statements, Functions, and Modules"
   ]
  },
  {
   "cell_type": "markdown",
   "id": "845e4cf4",
   "metadata": {},
   "source": [
    "### <p style=\"text-align: right;\"> &#9989; Jessica Parks </p>"
   ]
  },
  {
   "cell_type": "markdown",
   "id": "f858bb73",
   "metadata": {},
   "source": [
    "# __CMSE  201 &ndash; Fall 2021__\n",
    "\n",
    "<img src=\"https://cmse.msu.edu/sites/_cmse/assets/Image/image002.jpg\"\n",
    "     alt=\"CMSE Logo\"\n",
    "     align=\"right\" \n",
    "     height=\"100\" \n",
    "     width=\"100\" />\n",
    "\n",
    "## Learning Goals\n",
    "\n",
    "### Content Goals\n",
    "- **Use if/elif/else statements to implement a logical flow**\n",
    "- **Write and execute functions**\n",
    "- **Use the python math module**\n",
    "- **Display data on plots using matplotlib**\n",
    "\n",
    "\n",
    "### Practice Goals\n",
    "- **Commenting code**\n",
    "- **Using functions to build reusable/transferable code**\n",
    "- **Use visualization best practices to make informative plots**\n",
    "\n",
    "\n",
    "___"
   ]
  },
  {
   "cell_type": "markdown",
   "id": "ad9f9d28",
   "metadata": {},
   "source": [
    "## Assignment instructions\n",
    "\n",
    "Work through the following assignment, making sure to follow all the directions and answer all the questions.\n",
    "\n",
    "**This assignment is due at 11:59 pm on Friday, October 1st.** It should be uploaded into the \"Homework Assignments\" submission folder for Homework #2.  Submission instructions can be found at the end of the notebook."
   ]
  },
  {
   "cell_type": "markdown",
   "id": "0f04997f",
   "metadata": {},
   "source": [
    "---\n",
    "## Grading\n",
    "\n",
    "* Part 1: Designing a Zoo Layout (7 points)\n",
    "    * 1.1: (2 points)\n",
    "    * 1.2: (5 points)\n",
    "* Part 2: Functions (20 points)\n",
    "    * 2.1: Backpacking in Europe (10 points)\n",
    "    * 2.2: Stock Prices (10 points)   \n",
    "* Part 3: Modules and matplotlib (12 points)\n",
    "\n",
    "Total points possible: **40**\n",
    "\n",
    "---"
   ]
  },
  {
   "cell_type": "markdown",
   "id": "e2934379",
   "metadata": {},
   "source": [
    "# ---\n",
    "# Academic integrity statement (1 point)\n",
    "\n",
    "In the markdown cell below, put your personal academic integrity statement (composed during the Day04 In-Class Assignment). By including this statement, you are confirming that the work you submit in the assignment is wholly your own.  "
   ]
  },
  {
   "cell_type": "markdown",
   "id": "0c1fc890",
   "metadata": {},
   "source": [
    "<font size=6 color=\"#009600\">&#9998;</font> I, Jessica Parks, commit to being the best student and team member I can be. This will be done by being responsible for my work, providing my best effort, and crediting those when their work is borrowed. By following through with these priorities, I will learn more as a student and be a positive contributor to our community. I acknowledge that Michigan State will uphold me to their ethical standards of integrity."
   ]
  },
  {
   "cell_type": "markdown",
   "id": "eb50a15e",
   "metadata": {},
   "source": [
    "<img src=\"https://www.jbzoo.org/uploads/images/JBZ_Summer2021_MapWebFINAL.jpg\"\n",
    "     alt=\"John Ball Zoo, Grand Rapids, MI\"\n",
    "     align=\"center\" \n",
    "     height=\"800\" \n",
    "     width=\"800\" />"
   ]
  },
  {
   "cell_type": "markdown",
   "id": "56cf52bb",
   "metadata": {},
   "source": [
    "## Part 1: Designing a Zoo Layout\n",
    "\n",
    "You are working with a team to redesign a zoo layout. The designers have decided that the zoo will be divided into sections based on the continent the animals are found on and their habitats. You have the data table below containing the species name, continent, and if their habitat requirements are primarily water, primarily flying, or primarily land.\n",
    "\n",
    "\n",
    "| Species | Continent | Water Habitat | Flying Habitat | Land Habitat |\n",
    "| :----- | :----- | :------ | :----- | :----- |\n",
    "| River Otter | North America | Yes | No  | No  |\n",
    "| Viscacha | South America | No | No | Yes  |\n",
    "| Emperor Penguin | Antarctica | Yes | No  | No |\n",
    "| Toco Toucan | South America | No | Yes | No |\n",
    "| Lion | Africa | No | No  | Yes |\n",
    "| Platypus | Australia | Yes | No | No |\n",
    "| Pink Flamingo | Europe | No | Yes | No |\n",
    "| Binturong | Asia | No | No | Yes |\n",
    "| Grizzly Bear | North America | No | No | Yes |"
   ]
  },
  {
   "cell_type": "markdown",
   "id": "f5f601a5",
   "metadata": {},
   "source": [
    "### 1.1 Making Lists (2 points)\n",
    "\n",
    "&#9989;&nbsp; In the cell below, create a list of lists that contains all of the data in the table above. The structure of the list should be `animal_data = [list0, list1, list2,...]` with as many entries as rows. Each list in `animal_data` is the information for one animal. For example, `list0` would contain all of the information about the river otter (`list0 = ['River Otter', 'North America','Yes','No','No']`)."
   ]
  },
  {
   "cell_type": "code",
   "execution_count": 10,
   "id": "d89957d0",
   "metadata": {},
   "outputs": [],
   "source": [
    "# put your code here\n",
    "\n",
    "# list[animal name, continent, water hab, flying hab, land hab]\n",
    "\n",
    "list0 = ['River Otter', 'North America', 'Yes', 'No', 'No']\n",
    "list1 = ['Viscacha', 'South America', 'No', 'No','Yes']\n",
    "list2=['Emperor Penguin', 'Antarctica', 'Yes', 'No', 'No']\n",
    "list3 = ['Toco Toucan', 'South America', 'No', 'Yes', 'No']\n",
    "list4 = ['Lion', 'Africa', 'No', 'No', 'Yes']\n",
    "list5 = ['Platypus', 'Australia', 'Yes', 'No', 'No']\n",
    "list6 = ['Pink Flamingo', 'Europe', 'No', 'Yes', 'No']\n",
    "list7 = ['Binturong', 'Asia', 'No', 'No', 'Yes']\n",
    "list8 = ['Grizzly Bear', 'North America', 'No', 'No', 'Yes']\n",
    "\n",
    "animal_data = [list0, list1, list2, list3, list4, list5, list6, list7, list8]\n",
    "#print(animal_data)"
   ]
  },
  {
   "cell_type": "markdown",
   "id": "ad9eda9b",
   "metadata": {},
   "source": [
    "### 1.2 Categorizing Animals\n",
    "\n",
    "&#9989;&nbsp; Loop through your list from part 1.1 with a `for` or `while` loop, and using appropriate `if/elif/else` statements, determine the region and habitat for each animal in the zoo and print them out as a string.\n",
    "\n",
    "For example, for _River Otter_ your loop should print `River Otter is in the North America Region in a primarily Water Habitat`.\n",
    "\n",
    "**Note:** Your solution should use the information in the Contintent/Water Habitat/Flying Habitat/Land Habitat along with appropriate `if/elif/else` statements. "
   ]
  },
  {
   "cell_type": "markdown",
   "id": "03dbe931",
   "metadata": {},
   "source": [
    "### 1.2.1 Pseudocoding (2 points)\n",
    "\n",
    "&#9989;&nbsp; Write out your plan for how you will write your code to solve the problem in the cell below."
   ]
  },
  {
   "cell_type": "code",
   "execution_count": 11,
   "id": "ddf4a6ed",
   "metadata": {},
   "outputs": [],
   "source": [
    "# put your pseudocode here\n",
    "\n",
    "# loop through continent until continent names maches if condition\n",
    "# loop through the three habitats until equals Yes for habitat\n",
    "# print name of animal, continent, and type of habitat"
   ]
  },
  {
   "cell_type": "markdown",
   "id": "1181518a",
   "metadata": {},
   "source": [
    "### 1.2.2 Now turn your pseudocode in to code! (3 points)\n",
    "\n",
    "&#9989;&nbsp; In the cell(s) below, write out your solution. Don't forget to use code comments where appropriate!"
   ]
  },
  {
   "cell_type": "code",
   "execution_count": 13,
   "id": "5f790bbf",
   "metadata": {},
   "outputs": [
    {
     "name": "stdout",
     "output_type": "stream",
     "text": [
      "River Otter is in North America in a primarily Water Habitat\n",
      "Viscacha is in South America in a primarily Land Habitat\n",
      "Emperor Penguin is in Antarctica in a primarily Water Habitat\n",
      "Toco Toucan is in South America in a primarily Flying Habitat\n",
      "Lion is in Africa in a primarily Land Habitat\n",
      "Platypus is in Australia in a primarily Water Habitat\n",
      "Pink Flamingo is in Europe in a primarily Flying Habitat\n",
      "Binturong is in Asia in a primarily Land Habitat\n",
      "Grizzly Bear is in North America in a primarily Land Habitat\n"
     ]
    }
   ],
   "source": [
    "# use if/elif/else to check for which of three habitats in\n",
    "# after identify habitat, print statement with continent\n",
    "\n",
    "for i in range(len(animal_data)):\n",
    "    \n",
    "    if animal_data[i][1] == \"North America\":    # Check if the second value of list is equal to North America\n",
    "        if animal_data[i][2] == \"Yes\":          # Check if third list item is Yes to Water Habitat; print if so\n",
    "            print(animal_data[i][0], \"is in\", animal_data[i][1], \"in a primarily Water Habitat\")\n",
    "        elif animal_data[i][3] == \"Yes\":          # Check if fourth list item is Yes to Flying Habitat; print if so\n",
    "            print(animal_data[i][0], \"is in\", animal_data[i][1], \"in a primarily Flying Habitat\")\n",
    "        else:                                      # Check if fifth list item is Yes to Land Habitat; print if so\n",
    "            print(animal_data[i][0], \"is in\", animal_data[i][1], \"in a primarily Land Habitat\")\n",
    "            \n",
    "    elif animal_data[i][1] == \"South America\":    # Check if the second value of list is equal to South America\n",
    "        if animal_data[i][2] == \"Yes\":\n",
    "            print(animal_data[i][0], \"is in\", animal_data[i][1], \"in a primarily Water Habitat\")\n",
    "        elif animal_data[i][3] == \"Yes\":\n",
    "            print(animal_data[i][0], \"is in\", animal_data[i][1], \"in a primarily Flying Habitat\")\n",
    "        else:\n",
    "            print(animal_data[i][0], \"is in\", animal_data[i][1], \"in a primarily Land Habitat\")\n",
    "            \n",
    "    elif animal_data[i][1] == \"Africa\":    # Check if the second value of list is equal to Africa\n",
    "        if animal_data[i][2] == \"Yes\":\n",
    "            print(animal_data[i][0], \"is in\", animal_data[i][1], \"in a primarily Water Habitat\")\n",
    "        elif animal_data[i][3] == \"Yes\":\n",
    "            print(animal_data[i][0], \"is in\", animal_data[i][1], \"in a primarily Flying Habitat\")\n",
    "        else:\n",
    "            print(animal_data[i][0], \"is in\", animal_data[i][1], \"in a primarily Land Habitat\")\n",
    "            \n",
    "    elif animal_data[i][1] == \"Europe\":    # Check if the second value of list is equal to Europe\n",
    "        if animal_data[i][2] == \"Yes\":\n",
    "            print(animal_data[i][0], \"is in\", animal_data[i][1], \"in a primarily Water Habitat\")\n",
    "        elif animal_data[i][3] == \"Yes\":\n",
    "            print(animal_data[i][0], \"is in\", animal_data[i][1], \"in a primarily Flying Habitat\")\n",
    "        else:\n",
    "            print(animal_data[i][0], \"is in\", animal_data[i][1], \"in a primarily Land Habitat\")\n",
    "            \n",
    "    elif animal_data[i][1] == \"Asia\":    # Check if the second value of list is equal to Asia\n",
    "        if animal_data[i][2] == \"Yes\":\n",
    "            print(animal_data[i][0], \"is in\", animal_data[i][1], \"in a primarily Water Habitat\")\n",
    "        elif animal_data[i][3] == \"Yes\":\n",
    "            print(animal_data[i][0], \"is in\", animal_data[i][1], \"in a primarily Flying Habitat\")\n",
    "        else:\n",
    "            print(animal_data[i][0], \"is in\", animal_data[i][1], \"in a primarily Land Habitat\")\n",
    "            \n",
    "    elif animal_data[i][1] == \"Antarctica\":    # Check if the second value of list is equal to Antarctica\n",
    "        if animal_data[i][2] == \"Yes\":\n",
    "            print(animal_data[i][0], \"is in\", animal_data[i][1], \"in a primarily Water Habitat\")\n",
    "        elif animal_data[i][3] == \"Yes\":\n",
    "            print(animal_data[i][0], \"is in\", animal_data[i][1], \"in a primarily Flying Habitat\")\n",
    "        else:\n",
    "            print(animal_data[i][0], \"is in\", animal_data[i][1], \"in a primarily Land Habitat\")\n",
    "            \n",
    "    else:                                     # Check if the second value of list is equal to Australia\n",
    "        if animal_data[i][2] == \"Yes\":\n",
    "            print(animal_data[i][0], \"is in\", animal_data[i][1], \"in a primarily Water Habitat\")\n",
    "        elif animal_data[i][3] == \"Yes\":\n",
    "            print(animal_data[i][0], \"is in\", animal_data[i][1], \"in a primarily Flying Habitat\")\n",
    "        else:\n",
    "            print(animal_data[i][0], \"is in\", animal_data[i][1], \"in a primarily Land Habitat\")"
   ]
  },
  {
   "cell_type": "markdown",
   "id": "7ec6f5e3",
   "metadata": {},
   "source": [
    "## Part 2: Functions"
   ]
  },
  {
   "cell_type": "markdown",
   "id": "25704b65",
   "metadata": {},
   "source": [
    "## 2.1 Backpacking in Europe\n",
    "\n",
    "You and your friends are trying to plan a backpacking trip to Europe, but all of the information you can find is in metric units (meters, liters, kilograms) and your friends are only familiar with imperial units (feet, gallons, pounds). However, you remember that you know python and can write yourself a tool to convert units as necessary!"
   ]
  },
  {
   "cell_type": "markdown",
   "id": "7b0bc1db",
   "metadata": {},
   "source": [
    "### 2.1.1 (2 points)\n",
    "\n",
    "&#9989;&nbsp; In the cell below, write a separate calculation for converting liters to gallons, meters to feet, and kilograms to pounds. You should use the internet to determine the values for conversion. **Test your conversions by converting 2 liters to gallons, 5000 meters to feet, and 150 kilograms to pounds.**\n",
    "\n",
    "For example, there are 3600 seconds in one hour, so to convert from hours to seconds, you need to multiply the number of hours by 3600.\n",
    "\n",
    "`hours = 4\n",
    "seconds_in_an_hour = 3600\n",
    "time_in_seconds = hours*seconds_in_an_hour\n",
    "print(time_in_seconds)`"
   ]
  },
  {
   "cell_type": "code",
   "execution_count": 14,
   "id": "6c413643",
   "metadata": {},
   "outputs": [
    {
     "name": "stdout",
     "output_type": "stream",
     "text": [
      "0.524\n",
      "16405.0\n",
      "330.6\n"
     ]
    }
   ],
   "source": [
    "# put your code here\n",
    "\n",
    "liters = 2   # liters to gallons conversion\n",
    "liters_per_gal = 0.262\n",
    "gals = liters * liters_per_gal\n",
    "print(gals)\n",
    "\n",
    "meters = 5000  # meters to feet conversion\n",
    "meters_per_feet = 3.281\n",
    "feet = meters * meters_per_feet\n",
    "print(feet)\n",
    "\n",
    "kilograms = 150   # kilograms to pounds conversion\n",
    "kilograms_to_pounds = 2.204\n",
    "pounds = kilograms * kilograms_to_pounds\n",
    "print(pounds)"
   ]
  },
  {
   "cell_type": "markdown",
   "id": "a974eed0",
   "metadata": {},
   "source": [
    "### 2.1.2 (2 points)\n",
    "\n",
    "While it's pretty easy to do multiplication in python, it's rather slow to have to type a new equation every time, so to make things faster for you and your friends, you will write a function that takes in the metric value and returns the imperial value. \n",
    "\n",
    "&#9989;&nbsp; In the cell below, write a function to calculate the conversion of liters to gallons."
   ]
  },
  {
   "cell_type": "code",
   "execution_count": 15,
   "id": "4356d538",
   "metadata": {},
   "outputs": [],
   "source": [
    "def liters_to_gallons (n1):   # liters to gallons converstion\n",
    "    gals = n1*0.264\n",
    "    return gals"
   ]
  },
  {
   "cell_type": "markdown",
   "id": "29d1f259",
   "metadata": {},
   "source": [
    "### 2.1.3 (5 points)\n",
    "\n",
    "To make your conversion tool the most useful by all of your friends, you need to expand your function to calculate the conversions for meters and kilograms as well. Your function should be able to take a value and its metric units and return the imperial units.\n",
    "\n",
    "&#9989;&nbsp; In the cell below, plan out your function using pseudocode."
   ]
  },
  {
   "cell_type": "code",
   "execution_count": 20,
   "id": "eabf9a5b",
   "metadata": {},
   "outputs": [],
   "source": [
    "# function takes in two arguments, the first is a float and teh second is a string for the metric unit\n",
    "# match metric unit to strings in ifelse statments to then initiate conversion\n",
    "# complete the respective converstion for the metric unit\n",
    "# return imperial unit"
   ]
  },
  {
   "cell_type": "markdown",
   "id": "ec9ffbbc",
   "metadata": {},
   "source": [
    "&#9989;&nbsp; In the cell below, write your function. Feel free to add additional cells if necessary."
   ]
  },
  {
   "cell_type": "code",
   "execution_count": 26,
   "id": "6f167319",
   "metadata": {},
   "outputs": [],
   "source": [
    "def conversions(num, units):\n",
    "    liters_per_gal = 0.262\n",
    "    meters_per_feet = 3.281\n",
    "    kilograms_to_pounds = 2.204\n",
    "\n",
    "    if units == 'liters' or units == 'Liters' or units =='liter' or units =='Liter':\n",
    "        gals = num * liters_per_gal\n",
    "        return gals\n",
    "    \n",
    "    elif units == 'meters' or units =='Meters' or units =='meter' or units =='Meter':\n",
    "        feet = num * meters_per_feet\n",
    "        return feet\n",
    "    \n",
    "    elif units == 'kilograms' or units =='Kilograms' or units =='kilogram' or units =='Kilogram':\n",
    "        pounds = num * kilograms_to_pounds\n",
    "        return pounds\n",
    "    \n",
    "    else:\n",
    "        print(\"Error: Please spell out entire unit name\")"
   ]
  },
  {
   "cell_type": "markdown",
   "id": "e83f3d46",
   "metadata": {},
   "source": [
    "### 2.1.4 Checking your work (1 point)\n",
    "\n",
    "&#9989;&nbsp; In the cell below, demonstrate that your code works as you intend with words and code examples."
   ]
  },
  {
   "cell_type": "code",
   "execution_count": 29,
   "id": "ddfa0d60",
   "metadata": {},
   "outputs": [
    {
     "name": "stdout",
     "output_type": "stream",
     "text": [
      "1.179\n",
      "14.7645\n"
     ]
    }
   ],
   "source": [
    "lit = conversions(4.5, \"Liters\")\n",
    "print(lit)\n",
    "met = conversions(4.5,\"Meters\")\n",
    "print(met)"
   ]
  },
  {
   "cell_type": "markdown",
   "id": "16aa5a65",
   "metadata": {},
   "source": [
    "## 2.2 Tracking Stock Prices\n",
    "\n",
    "You are investing in the stock market, and you want to keep an eye on the stocks that are **increasing or decreasing** the most over time. To do this, you will **write a function** to calculate the percent difference between open and close each day and plot it. \n",
    "\n",
    "Percent difference can be calculated by $\\% \\ difference = \\frac{(close-open)}{open}$"
   ]
  },
  {
   "cell_type": "markdown",
   "id": "3f4de817",
   "metadata": {},
   "source": [
    "### 2.2.1 Understanding Percent Difference (1 point)\n",
    "\n",
    "In your own words, describe what the percent difference tells you about data. **Hint:** What does it mean if the percent difference is large? What about if it is small?"
   ]
  },
  {
   "cell_type": "markdown",
   "id": "ab855577",
   "metadata": {},
   "source": [
    " <font size=\"+3\">&#9998;</font> If the percent is large and positive, that will indicate the stock market had a large increase for the day and invested money grew. If the percent is small and postiive it will mean the stock market had a small increase for the day and invested money grew a little.If the number is negative, it will mean some invested money was lost; this could be a large or small amount depending on the percentage size."
   ]
  },
  {
   "cell_type": "markdown",
   "id": "e459de33",
   "metadata": {},
   "source": [
    "### 2.2.2 Planning (1 point)\n",
    "\n",
    "&#9989;&nbsp; In the cell below write out your plan for your percent difference function."
   ]
  },
  {
   "cell_type": "code",
   "execution_count": 30,
   "id": "a77f3ad1",
   "metadata": {},
   "outputs": [],
   "source": [
    "# Calculate the difference between open and closed amount\n",
    "# Divide the value by the open amount\n",
    "# multiply by 100 to get percent"
   ]
  },
  {
   "cell_type": "markdown",
   "id": "e8cd31c2",
   "metadata": {},
   "source": [
    "### 2.2.3 Developing your function (5 points)\n",
    "\n",
    "&#9989;&nbsp; In the cell below, write your percent difference function and test it using the test data. Feel free to add additional cells as needed."
   ]
  },
  {
   "cell_type": "code",
   "execution_count": 31,
   "id": "c98efe82",
   "metadata": {},
   "outputs": [],
   "source": [
    "# test data\n",
    "test_open = [40,42,48,36,40,45]\n",
    "test_close = [41,46,37,38,44,45,42]\n",
    "test_days = list(range(len(test_open)))"
   ]
  },
  {
   "cell_type": "code",
   "execution_count": 32,
   "id": "30252bf7",
   "metadata": {},
   "outputs": [
    {
     "name": "stdout",
     "output_type": "stream",
     "text": [
      "2.5\n",
      "9.523809523809524\n",
      "-22.916666666666664\n",
      "5.555555555555555\n",
      "10.0\n",
      "0.0\n"
     ]
    }
   ],
   "source": [
    "for i in range(len(test_open)):\n",
    "    sub_val = test_close[i]-test_open[i]\n",
    "    div_val = sub_val/test_open[i]\n",
    "    print(div_val*100)"
   ]
  },
  {
   "cell_type": "code",
   "execution_count": 33,
   "id": "f7a79b7f",
   "metadata": {},
   "outputs": [],
   "source": [
    "def stock_change(open_amount=[],close_amount=[]):\n",
    "    perc_change = []\n",
    "    for i in range(len(open_amount)):\n",
    "        sub_val = close_amount[i]-open_amount[i]\n",
    "        div_val = sub_val/open_amount[i]\n",
    "        perc_change.append(div_val * 100)\n",
    "    return perc_change"
   ]
  },
  {
   "cell_type": "markdown",
   "id": "589b6c0a",
   "metadata": {},
   "source": [
    "### 2.2.4 Checking your work (1 point)\n",
    "\n",
    "&#9989;&nbsp; In the cell below, demonstrate that your function works with code and exmaples."
   ]
  },
  {
   "cell_type": "code",
   "execution_count": 34,
   "id": "cd57883a",
   "metadata": {},
   "outputs": [
    {
     "data": {
      "text/plain": [
       "[2.5, 9.523809523809524, -22.916666666666664, 5.555555555555555, 10.0, 0.0]"
      ]
     },
     "execution_count": 34,
     "metadata": {},
     "output_type": "execute_result"
    }
   ],
   "source": [
    "stock_change(test_open,test_close)"
   ]
  },
  {
   "cell_type": "markdown",
   "id": "35cad5f2",
   "metadata": {},
   "source": [
    "### 2.2.5 Plotting Data (2 points)\n",
    "\n",
    "&#9989;&nbsp; Using your function, calculate the daily percent difference for the stock data below and plot your results."
   ]
  },
  {
   "cell_type": "code",
   "execution_count": 35,
   "id": "d114f5e2",
   "metadata": {},
   "outputs": [],
   "source": [
    "# Stock data source: https://eoddata.com/stockquote/NYSE/GME.htm?e=NYSE&s=GME\n",
    "daily_open = [19.0, 17.35, 17.34, 18.47, 18.18, 19.41, 19.96, 20.42, 38.09, 38.49, 35.5, 41.55, 37.37, 39.23, 42.59, 96.73, 88.56, 354.83, 265.0, 383.17, 316.56, 140.76, 112.01, 91.19, 54.04, 72.41, 56.61, 50.77, 50.01, 50.75, 52.4, 52.99, 49.55, 48.49, 41.28, 46.69, 44.97, 44.7, 169.56, 117.46, 104.54, 116.93, 122.51, 125.0, 128.17, 154.89, 217.71, 269.43, 241.64, 275.0, 277.52, 203.16, 217.84, 214.0, 195.73, 205.26, 197.5, 157.98, 123.49, 197.68, 180.75, 187.5, 197.5, 193.36, 191.45, 171.0, 185.21, 183.22, 185.88, 169.7, 158.11, 141.88, 143.57, 163.0, 156.0, 171.8, 164.14, 158.4, 159.1, 149.0, 150.98, 183.55, 172.1, 176.56, 175.0, 177.49, 159.0, 161.83, 160.86, 160.11, 161.31, 137.0, 145.7, 147.44, 160.0, 159.85, 174.54, 172.91, 170.79, 171.0, 175.85, 181.0, 229.0, 229.8, 262.97, 222.0, 233.48, 248.88, 265.71, 256.02, 258.0, 292.0, 303.12, 282.0, 222.35, 236.5, 226.36, 215.24, 224.0, 219.86, 216.95, 217.73, 221.45, 221.16, 214.0, 211.25, 213.59, 209.69, 213.4, 204.8, 202.83, 204.0, 196.0, 179.83, 190.88, 191.42, 187.68, 180.49, 160.0, 170.15, 163.14, 173.9, 187.79, 185.3, 181.0, 180.36, 183.0, 175.72, 170.6, 165.0, 162.0, 156.74, 152.73, 148.0, 154.59, 151.8, 161.36, 158.43, 159.88, 160.47, 161.0, 161.19, 163.25, 156.77, 153.8, 162.38, 166.29, 206.65, 200.68, 207.7, 205.0, 212.7, 224.0, 213.86, 212.05, 206.25, 201.86, 180.09, 198.41, 193.75, 200.65]\n",
    "daily_close = [17.25, 17.37, 18.36, 18.08, 17.69, 19.94, 19.95, 31.4, 39.91, 35.5, 35.5, 39.36, 39.12, 43.03, 65.01, 76.79, 147.98, 347.51, 193.6, 325.0, 225.0, 90.0, 92.41, 53.5, 63.77, 60.0, 50.31, 51.2, 51.1, 52.4, 52.4, 49.51, 45.94, 40.69, 40.59, 46.0, 44.97, 91.71, 108.73, 101.74, 120.4, 118.18, 124.18, 132.35, 137.74, 194.5, 246.9, 265.0, 260.0, 264.5, 220.14, 208.17, 209.81, 201.75, 200.27, 194.49, 181.75, 120.34, 183.75, 181.0, 181.3, 194.46, 189.82, 191.45, 191.45, 186.95, 184.5, 177.97, 170.26, 158.36, 141.09, 140.99, 166.53, 156.44, 154.69, 164.37, 158.53, 158.51, 151.17, 151.18, 168.93, 177.77, 178.58, 176.19, 173.59, 162.2, 160.73, 159.48, 161.01, 161.11, 143.22, 146.92, 144.79, 164.5, 159.92, 180.6, 180.67, 168.83, 170.49, 176.79, 180.01, 209.43, 242.56, 254.13, 222.0, 222.0, 249.02, 282.24, 258.18, 248.36, 280.01, 300.0, 302.56, 220.39, 233.34, 229.44, 222.5, 222.97, 223.59, 213.82, 200.37, 220.4, 219.34, 212.31, 209.51, 213.25, 210.88, 214.14, 204.36, 202.83, 202.83, 199.56, 190.66, 191.38, 191.23, 189.25, 180.06, 167.62, 166.82, 169.04, 173.49, 191.18, 185.81, 178.85, 180.36, 183.94, 178.54, 169.12, 164.86, 161.12, 157.65, 152.75, 146.8, 153.44, 151.77, 161.13, 159.05, 158.78, 162.35, 162.52, 163.93, 163.55, 157.05, 152.9, 159.3, 164.89, 210.29, 199.65, 205.22, 204.95, 209.2, 218.24, 212.97, 213.52, 202.75, 199.0, 198.8, 199.18, 190.41, 203.4, 199.24]\n",
    "days = list(range(len(daily_open)))"
   ]
  },
  {
   "cell_type": "code",
   "execution_count": 36,
   "id": "fe04a0bd",
   "metadata": {},
   "outputs": [
    {
     "data": {
      "text/plain": [
       "Text(0, 0.5, 'Percentage Change in Day')"
      ]
     },
     "execution_count": 36,
     "metadata": {},
     "output_type": "execute_result"
    },
    {
     "data": {
      "image/png": "[encoded data removed]",
      "text/plain": [
       "<Figure size 432x288 with 1 Axes>"
      ]
     },
     "metadata": {
      "needs_background": "light"
     },
     "output_type": "display_data"
    }
   ],
   "source": [
    "import matplotlib.pyplot as plt\n",
    "%matplotlib inline\n",
    "\n",
    "\n",
    "# stock_change(daily_open, daily_close)\n",
    "\n",
    "plt.plot(days,stock_change(daily_open,daily_close))\n",
    "plt.title(\"Daily Perentage Stock Change\")\n",
    "plt.xlabel(\"Days\")\n",
    "plt.ylabel(\"Percentage Change in Day\")"
   ]
  },
  {
   "cell_type": "markdown",
   "id": "92a7962d",
   "metadata": {},
   "source": [
    "### 2.2.6 Making Observations (1 point)\n",
    "\n",
    "&#9989;&nbsp; In 2.2.1, you provided reasoning for what percent difference calculations tell us about data. Given what you now know about percent differences, make observations about the percent difference measurements over time in your plot and describe anything you find particularly notable."
   ]
  },
  {
   "cell_type": "markdown",
   "id": "603e5560",
   "metadata": {},
   "source": [
    " <font size=\"+3\">&#9998;</font> In the beginning days, there is more volatility in the percent change. As time goes on though, the volatility decreases and there is less fluctuation day by day in the percent amount the stock market changes by."
   ]
  },
  {
   "cell_type": "markdown",
   "id": "7ae1cb60",
   "metadata": {},
   "source": [
    "## Part 3: Modules and Plotting"
   ]
  },
  {
   "cell_type": "markdown",
   "id": "b0e10b2b",
   "metadata": {},
   "source": [
    "### 3.1 Modules (2 points)\n",
    "The math module contains the basic trigonometric functions (sine, cosine, tangent, arcsine, arcosine, arctangent, etc.). \n",
    "\n",
    "&#9989;&nbsp; In the cell below, choose three of the trigonometric functions and generate x and y values for each. You should use the `math` module and/or the `numpy` module."
   ]
  },
  {
   "cell_type": "code",
   "execution_count": 37,
   "id": "7d24c802",
   "metadata": {},
   "outputs": [],
   "source": [
    "import math as m\n",
    "\n",
    "# create list of x values\n",
    "xlist = []\n",
    "i=0\n",
    "\n",
    "while i <=(2*m.pi):\n",
    "    xlist.append(i)\n",
    "    i +=0.1\n",
    "#print(xlist)\n",
    "\n",
    "# create lists of y values for each of the three trip functions\n",
    "\n",
    "sinList = []\n",
    "cosList = []\n",
    "tanList = []\n",
    "\n",
    "for i in range(len(xlist)):\n",
    "    sinList.append(m.sin(xlist[i]))\n",
    "    cosList.append(m.cos(xlist[i]))\n",
    "    tanList.append(m.tan(xlist[i]))\n",
    "    \n",
    "#print(sinList)\n",
    "#print(cosList)\n",
    "#print(tanList)"
   ]
  },
  {
   "cell_type": "markdown",
   "id": "2398a243",
   "metadata": {},
   "source": [
    "### 3.2 Plotting (2 points)\n",
    "\n",
    "&#9989;&nbsp; In the cell below, make a plot for one of your trigonometric functions. Make sure to include axis labels, a title, and a legend."
   ]
  },
  {
   "cell_type": "code",
   "execution_count": 38,
   "id": "f51e1a6b",
   "metadata": {},
   "outputs": [
    {
     "data": {
      "text/plain": [
       "Text(0, 0.5, 'Sine of X')"
      ]
     },
     "execution_count": 38,
     "metadata": {},
     "output_type": "execute_result"
    },
    {
     "data": {
      "image/png": "[encoded data removed]",
      "text/plain": [
       "<Figure size 432x288 with 1 Axes>"
      ]
     },
     "metadata": {
      "needs_background": "light"
     },
     "output_type": "display_data"
    }
   ],
   "source": [
    "# import packages\n",
    "import matplotlib.pyplot as plt\n",
    "%matplotlib inline\n",
    "\n",
    "\n",
    "# plot x, y, color of line, label on legend\n",
    "plt.plot(xlist, sinList, 'r')\n",
    "plt.title(\"Sine of X from 0-2pi\")\n",
    "plt.xlabel(\"X values\")\n",
    "plt.ylabel(\"Sine of X\")"
   ]
  },
  {
   "cell_type": "markdown",
   "id": "5658739e",
   "metadata": {},
   "source": [
    "### 3.3 Streamlining plots\n",
    "\n",
    "In CMSE 201, you will be making plots often. To help future you save time, you are going to write a function to use when you make plots!\n",
    "\n",
    "### 3.3.1 (6 points)\n",
    "&#9989;&nbsp; In the cells below, write a function that takes the x and y values from all three of your trigonometric functions above and appropriate labels and returns a plot with a panel for each trigonometric function. You should use plt.subplot() and make use of labels, line shapes, and colors to make your plots clear. **You must also test your function to receive full credit**"
   ]
  },
  {
   "cell_type": "code",
   "execution_count": 56,
   "id": "3533d326",
   "metadata": {},
   "outputs": [],
   "source": [
    "import matplotlib.pyplot as plt\n",
    "%matplotlib inline\n",
    "\n",
    "def trig_graph(x1=[], t1=[], t2=[],t3=[]):\n",
    "        \n",
    "        #plot 1\n",
    "        plt.subplot(1,3,1)\n",
    "        plt.plot(x1, t1, color='red', label=\"sine\")\n",
    "        plt.xlabel(\"X values\")\n",
    "        plt.ylabel(\"Y values\")\n",
    "        plt.title(\"Sine Graph\")\n",
    "        plt.legend()\n",
    "        \n",
    "        #plot 2\n",
    "        plt.subplot(1,3,2)\n",
    "        plt.plot(x1, t2, color='blue', label='cosine')\n",
    "        plt.xlabel(\"X values\")\n",
    "        plt.ylabel(\"Y values\")\n",
    "        plt.title(\"Cosine Graph\")\n",
    "        plt.legend()\n",
    "        \n",
    "        #plot 3\n",
    "        plt.subplot(1,3,3)\n",
    "        plt.plot(x1, t3, color='green', label='tangent')\n",
    "        plt.xlabel(\"X values\")\n",
    "        plt.ylabel(\"Y values\")\n",
    "        plt.title(\"Tangent Graph\")\n",
    "        plt.legend()\n",
    "        \n",
    "        plt.subplots_adjust(right = 5.0, top = 5.0, bottom = 4.0)"
   ]
  },
  {
   "cell_type": "code",
   "execution_count": 57,
   "id": "6e941c27",
   "metadata": {},
   "outputs": [
    {
     "data": {
      "image/png": "[encoded data removed]",
      "text/plain": [
       "<Figure size 432x288 with 3 Axes>"
      ]
     },
     "metadata": {
      "needs_background": "light"
     },
     "output_type": "display_data"
    }
   ],
   "source": [
    "trig_graph(xlist,sinList,cosList,tanList)"
   ]
  },
  {
   "cell_type": "markdown",
   "id": "3196d868",
   "metadata": {},
   "source": [
    "### 3.4 Making your plotting function more flexible (2 points)\n",
    "\n",
    "&#9989;&nbsp; In the cell below, look at your function from 3.3 and write in words and/or pseudocode how you might change it to handle any number of subplots."
   ]
  },
  {
   "cell_type": "code",
   "execution_count": 58,
   "id": "d2bd823b",
   "metadata": {},
   "outputs": [],
   "source": [
    "# Depending on the number of subplots I would have, I would first change the rows and columns indicated\n",
    "# in the plt.subplot(row, colum, number) fucntion. How ever many total subplots I would need, I would\n",
    "# find an amount where the number of rows and columns are about even with each other so it would be more \n",
    "# easy to see. \n",
    "# For example, if I was making nine subplots, I would make a 3 x # grid. In the case of the subplot\n",
    "# function, it would be written as plt.subplot(3,3,number). \n",
    "\n",
    "# Lastly, as I made the subplots, I would indicate in the last argument of the plt.subplot fucntion \n",
    "# with graph number it was. For example, if I was making my 4th of 9 graphs, \n",
    "# it would be noted as plt.subplot(3,3,4)"
   ]
  },
  {
   "cell_type": "markdown",
   "id": "22e60409",
   "metadata": {},
   "source": [
    "---\n",
    "## Assignment Wrap-up\n",
    "\n",
    "Please fill out the following Form before you submit your assignment. **You must completely fill this out in order to receive credit for the assignment!**\n",
    "\n",
    "**COMPLETE THIS SURVEY through [this link](https://forms.office.com/Pages/ResponsePage.aspx?id=MHEXIi9k2UGSEXQjetVoffh-a-g_jQVGqbV9Nr124R5UOEVGM1Y1Wjc4NDdGTDAwTFRVTTVSVkFBWi4u) or through cell below.**\n"
   ]
  },
  {
   "cell_type": "code",
   "execution_count": 59,
   "id": "256aa064",
   "metadata": {},
   "outputs": [
    {
     "data": {
      "text/html": [
       "\n",
       "<iframe \n",
       "\tsrc=\"https://forms.office.com/Pages/ResponsePage.aspx?id=MHEXIi9k2UGSEXQjetVoffh-a-g_jQVGqbV9Nr124R5UOEVGM1Y1Wjc4NDdGTDAwTFRVTTVSVkFBWi4u\" \n",
       "\twidth=\"80%\" \n",
       "\theight=\"1200px\" \n",
       "\tframeborder=\"0\" \n",
       "\tmarginheight=\"0\" \n",
       "\tmarginwidth=\"0\">\n",
       "\tLoading...\n",
       "</iframe>\n"
      ],
      "text/plain": [
       "<IPython.core.display.HTML object>"
      ]
     },
     "execution_count": 59,
     "metadata": {},
     "output_type": "execute_result"
    }
   ],
   "source": [
    "###update this for homework 2\n",
    "from IPython.display import HTML\n",
    "HTML(\n",
    "\"\"\"\n",
    "<iframe \n",
    "\tsrc=\"https://forms.office.com/Pages/ResponsePage.aspx?id=MHEXIi9k2UGSEXQjetVoffh-a-g_jQVGqbV9Nr124R5UOEVGM1Y1Wjc4NDdGTDAwTFRVTTVSVkFBWi4u\" \n",
    "\twidth=\"80%\" \n",
    "\theight=\"1200px\" \n",
    "\tframeborder=\"0\" \n",
    "\tmarginheight=\"0\" \n",
    "\tmarginwidth=\"0\">\n",
    "\tLoading...\n",
    "</iframe>\n",
    "\"\"\"\n",
    ")"
   ]
  },
  {
   "cell_type": "markdown",
   "id": "e8278a36",
   "metadata": {},
   "source": [
    "---\n",
    "\n",
    "### Congratulations, you're done!\n",
    "\n",
    "Submit this assignment by uploading it to the course Desire2Learn web page.  Go to the \"Homework Assignments\" section, find the submission folder link for Homework #2, and upload it there."
   ]
  }
 ],
 "metadata": {
  "kernelspec": {
   "display_name": "Python 3",
   "language": "python",
   "name": "python3"
  },
  "language_info": {
   "codemirror_mode": {
    "name": "ipython",
    "version": 3
   },
   "file_extension": ".py",
   "mimetype": "text/x-python",
   "name": "python",
   "nbconvert_exporter": "python",
   "pygments_lexer": "ipython3",
   "version": "3.8.8"
  }
 },
 "nbformat": 4,
 "nbformat_minor": 5
}
