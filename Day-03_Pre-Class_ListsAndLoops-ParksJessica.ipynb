{
 "cells": [
  {
   "cell_type": "markdown",
   "metadata": {},
   "source": [
    "# Day 3 Pre-Class Assignment: Lists and Loops"
   ]
  },
  {
   "cell_type": "markdown",
   "metadata": {},
   "source": [
    "### <p style=\"text-align: right;\"> &#9989; Jessica Parks</p>"
   ]
  },
  {
   "cell_type": "markdown",
   "metadata": {},
   "source": [
    "### Goals for Today's Pre-Class Assignment\n",
    "By the end of this assignment, you should be able to:\n",
    "* Create and manipulate lists in Python\n",
    "* Write `for` loops and `while` loops in Python\n",
    "* Combine lists and loops to compute new values.\n",
    "\n",
    "### Assignment instructions\n",
    "\n",
    "Watch the videos below, do the readings linked to below the videos, and complete the assigned programming problems.  Please get started early, and come to office hours if you have any questions!\n",
    "\n",
    "Recall that to make notebook cells that have Python code in them do something, hold down the 'shift' key and then press the 'enter' key (you'll have to do this to get the YouTube videos to run).  To edit a cell (to add answers, for example) you double-click on the cell, add your text, and then enter it by holding down 'shift' and pressing 'enter'.\n",
    "\n",
    "**This assignment is due by 11:59 p.m. the day before class,** and should be uploaded into the approproate \"Pre-class assignments\" submission folder on D2L.  Submission instructions can be found at the end of the notebook."
   ]
  },
  {
   "cell_type": "markdown",
   "metadata": {},
   "source": [
    "---\n",
    "### Some possibly useful links and information\n",
    "\n",
    "Before we dive into the pre-class assignment, here are some links that might be useful if you're looking to learn some extra iPython (which is what the Jupyter Notebooks are built on) and Jupyter Notebook skills:  \n",
    "\n",
    "* [IPython tutorial](http://ipython.readthedocs.org/en/stable/interactive/tutorial.html) -- this contains some *very* useful suggestions about IPython commands that allow you to get help on Python, figure out what specific variables or objects do, and many other things.\n",
    "\n",
    "* [Jupyter notebook tips and tricks](http://blog.dominodatalab.com/lesser-known-ways-of-using-notebooks/) -- some clever things you can do with Jupyter notebooks\n",
    "\n",
    "* [Another Jupyter notebook tip page](http://jupyter.cs.brynmawr.edu/hub/dblank/public/Jupyter%20Magics.ipynb)\n",
    "\n",
    "Also, if you want to start using keyboard shortcuts in Jupyter Notebooks to make your life easier and more efficient, **try pressing `ESC` to enter command mode and then press `H`**. This will bring up the list of the keyboard shortcuts. Some of the useful shortcuts include `A` and `B`, which insert cells into the notebook \"above\" and \"below\" the current cell, respectively. `X` is also useful for cutting out cells that you don't need."
   ]
  },
  {
   "cell_type": "markdown",
   "metadata": {},
   "source": [
    "## Part 1: Lists in Python\n",
    "\n",
    "One very useful data type/container in Python is the \"list\". A list is considered a \"mutable\" Python data type which means that once you create a list, you are free to change the contents of that list. Lists are also handy because they can store pretty much any other type of python variable within them -- including other lists! Creating lists of lists can actually be extremely handy at times. The following table should serve as a simple reference guide for lists. Note that you might have to scroll side to the side to see the whole table."
   ]
  },
  {
   "cell_type": "markdown",
   "metadata": {},
   "source": [
    "\n",
    "|Container Type|Mutable or Immutable|Initialization *Without* Values|Initializtion *With* Values|Adding Values to Container|Removing Values from Container|Modifying Values|Access Method        |Notable Operations and Additional Information|\n",
    "|:----------|:----------|:----------|:----------|:----------|:----------|:----------|:----------|:----------|\n",
    "|**List** $\\hspace{0.5in}$| Mutable $\\hspace{0.5in}$|<ul><li>`a=list()` </li><li> `a=[]` </li></ul> $\\hspace{1.0in}$| `a=['1', '2', '3']` $\\hspace{1.5in}$|  <ul><li>` list.append(item) #Adds item to the end of the list` </li><li> ` list.insert(index, item) #Adds item to the specified index in the list`</li></ul> $\\hspace{2.5in}$|`list.remove(item) #removes the first instance of 'item' from the list. If there is not such an element, this will cause an error` $\\hspace{2.0in}$|`>>> a[0] = 'cat'` <br> `>>> a` <br> `['cat', '2', '3']` $\\hspace{1.5in}$|Access by index: <br> `>>> a[0]` <br> `1` $\\hspace{1.2in}$|See webpage at [here](http://www.linuxtopia.org/online_books/programming_books/python_programming/python_ch14s07.html) for some helpful methods when dealing with lists. $\\hspace{1.5in}$|"
   ]
  },
  {
   "cell_type": "markdown",
   "metadata": {},
   "source": [
    "**Now**, watch the following video about lists. If the YouTube video doesn't work, try this link: https://mediaspace.msu.edu/media/The+list+data+type+in+Python/0_55bjfjvn"
   ]
  },
  {
   "cell_type": "code",
   "execution_count": 63,
   "metadata": {},
   "outputs": [
    {
     "data": {
      "image/jpeg": "[encoded data removed]",
      "text/html": [
       "\n",
       "        <iframe\n",
       "            width=\"640\"\n",
       "            height=\"360\"\n",
       "            src=\"https://www.youtube.com/embed/TJ_bGrigAMg\"\n",
       "            frameborder=\"0\"\n",
       "            allowfullscreen\n",
       "        ></iframe>\n",
       "        "
      ],
      "text/plain": [
       "<IPython.lib.display.YouTubeVideo at 0x111908460>"
      ]
     },
     "execution_count": 63,
     "metadata": {},
     "output_type": "execute_result"
    }
   ],
   "source": [
    "# Imports the functionality that we need to display YouTube videos in a Jupyter notebook.  \n",
    "# You need to run this cell before you run ANY of the YouTube videos.\n",
    "from IPython.display import YouTubeVideo\n",
    "\n",
    "# Watch this video to learn about the list type in Python \n",
    "YouTubeVideo(\"TJ_bGrigAMg\",width=640,height=360)"
   ]
  },
  {
   "cell_type": "markdown",
   "metadata": {},
   "source": [
    "We can think of a list like multiple containers placed side by side in a line, where the order of the containers is important. As mentioned above, lists can store nearly any other type of Python variable type in them. Each container in our list has an _index_ that tells us where that container lies in relation to the other containers in the list. Within each container, lies one of the variable types (or multiple variable types), which we typically refer to as the _values_. \n",
    "\n",
    "Here's an example list: <code>[7, 24.5, \"class\"]</code>. We can think about this list as three containers next to each other with each container containing a single element from this list. So for this list, we have a container at the index 0 with the value of 7, a container at the index 1 with the value 24.5, and a container with the index 2 with the value \"class\" (remembering Python indexing starts at 0!). We'll revisit this idea after a few questions. \n",
    "\n",
    "&#9989;&nbsp; **Question 1:**  In the cell below, create a list that contains, in this order:\n",
    "\n",
    "   1. Your first name as a string\n",
    "   2. Your age as a floating-point number in years. Include one decimal point of precision and a comment about how you calculated the decimal value.\n",
    "   3. Your room, apartment, or house number as an integer\n",
    "\n",
    "**Then**:\n",
    "* Print this list out.  \n",
    "* Replace your first name in the list with your last name, and replace your age with the current year as an integer.\n",
    "* Append one or more new variables (anything you like), print out the length of the list using the len() function, and then print out the entire list again."
   ]
  },
  {
   "cell_type": "code",
   "execution_count": 64,
   "metadata": {},
   "outputs": [
    {
     "name": "stdout",
     "output_type": "stream",
     "text": [
      "['Jessica', 27.7, 11]\n",
      "['Parks', 2021, 11]\n",
      "Length of list: 5\n",
      "['Parks', 'blue', 2021, 11, 3]\n"
     ]
    }
   ],
   "source": [
    "parks = [\"Jessica\", 27.7, 11] # calculated 8 months into 12 months until I reach my next birthday as decimal\n",
    "\n",
    "\n",
    "# print list\n",
    "\n",
    "print(parks)\n",
    "\n",
    "\n",
    "# replace name and age\n",
    "\n",
    "parks[0] = \"Parks\"\n",
    "parks[1] = 2021\n",
    "\n",
    "print(parks)\n",
    "\n",
    "\n",
    "# append variable\n",
    "\n",
    "parks.append(3)\n",
    "parks.insert(1, \"blue\")\n",
    "\n",
    "# length of list\n",
    "\n",
    "print(\"Length of list:\", len(parks))\n",
    "print(parks)"
   ]
  },
  {
   "cell_type": "markdown",
   "metadata": {},
   "source": [
    "---\n",
    "## Part 2: For loops and While loops\n",
    "\n",
    "### Part 2.1: For loops\n",
    "\n",
    "Watch the following video, which introduces the concepts of <code>for</code> loops and how they work in Python. After you watch the video, answer the questions below.\n",
    "\n",
    "If the YouTube video below doesn't work, try this link: https://mediaspace.msu.edu/media/Loops+in+python/0_ls7psyq2?ed=629"
   ]
  },
  {
   "cell_type": "code",
   "execution_count": 65,
   "metadata": {},
   "outputs": [
    {
     "data": {
      "image/jpeg": "[encoded data removed]",
      "text/html": [
       "\n",
       "        <iframe\n",
       "            width=\"640\"\n",
       "            height=\"360\"\n",
       "            src=\"https://www.youtube.com/embed/VnTN5sFIPD0?end=629\"\n",
       "            frameborder=\"0\"\n",
       "            allowfullscreen\n",
       "        ></iframe>\n",
       "        "
      ],
      "text/plain": [
       "<IPython.lib.display.YouTubeVideo at 0x1118d0340>"
      ]
     },
     "execution_count": 65,
     "metadata": {},
     "output_type": "execute_result"
    }
   ],
   "source": [
    "# Video on \"for\" loops in Python\n",
    "# Make sure to watch it in full-screen mode!\n",
    "YouTubeVideo(\"VnTN5sFIPD0\",width=640,height=360,end=629)"
   ]
  },
  {
   "cell_type": "markdown",
   "metadata": {},
   "source": [
    "&#9989;&nbsp; **Question 2**: Write a `for` loop that prints the numbers 0 through 9 in the cell below."
   ]
  },
  {
   "cell_type": "code",
   "execution_count": 66,
   "metadata": {},
   "outputs": [
    {
     "name": "stdout",
     "output_type": "stream",
     "text": [
      "0\n",
      "1\n",
      "2\n",
      "3\n",
      "4\n",
      "5\n",
      "6\n",
      "7\n",
      "8\n",
      "9\n"
     ]
    }
   ],
   "source": [
    "for i in range(10):\n",
    "    print(i)"
   ]
  },
  {
   "cell_type": "markdown",
   "metadata": {},
   "source": [
    "&#9989;&nbsp; **Question 3**: Write a `for` loop that iterates through the items in the \"cmse_grab_bag\" list provided in the cell below and prints each item."
   ]
  },
  {
   "cell_type": "code",
   "execution_count": 67,
   "metadata": {},
   "outputs": [
    {
     "name": "stdout",
     "output_type": "stream",
     "text": [
      "Dr. Alessio\n",
      "201\n",
      "Section 001\n",
      "Dr. Ravishankar\n",
      "pre-class\n",
      "3\n",
      "Dr. Frisbie\n",
      "Dr. Murillo\n",
      "Section 005\n",
      "Dr. Perea\n",
      "Dr. Finzell\n"
     ]
    }
   ],
   "source": [
    "cmse_grab_bag = [\"Dr. Alessio\", 201, \"Section 001\", \"Dr. Ravishankar\",\n",
    "            \"pre-class\", 3,  \"Dr. Frisbie\", \"Dr. Murillo\", \"Section 005\", \n",
    "                \"Dr. Perea\", \"Dr. Finzell\"]\n",
    "\n",
    "for i in cmse_grab_bag:\n",
    "    print(i)"
   ]
  },
  {
   "cell_type": "markdown",
   "metadata": {},
   "source": [
    "&#9989;&nbsp; **Task**: Looking at Questions 2 and 3, answer the following questions:\n",
    "- What type of information did you loop over? Explain the code that you wrote in plain English. \n",
    "- Are there differences between the structure of the loops that you wrote for Questions 2 and 3? If not, how else could you have completed Question 3 such that the structure would be different? "
   ]
  },
  {
   "cell_type": "markdown",
   "metadata": {},
   "source": [
    "1. The type of information I looped over in Question 2 was integers. I used the \"range\" function which allows us to loop through the indices. For Question 3, I looped over strings and characters using the values in cmse_grab_bag.\n",
    "2. For the loop in Question 2, I did not have to make the list before the looping. I was able to make the range of numbers within the for loop by using the range function. On the other hand, for Quesiton 3 I had to make the list before I could run loop through it. Additionally, I could write Question 3 differently by looping through the indices of cmse_grab_bag, as opposed to the values, by using the range and legnth function."
   ]
  },
  {
   "cell_type": "markdown",
   "metadata": {},
   "source": [
    "### Index vs Value\n",
    "\n",
    "Remember the container idea we mentioned above? \n",
    "\n",
    "In <code>for</code> loops, we can access the values in a list _by the value itself or by the index of the container_. For example, if you answered Question 3 with the structure of <code>for value in list:</code>, you accessed the values each container directly. We could also access the values in the container by using the index of where the container lies in list - in some sense, we are saying \"find the container at this index and return the value in that container.\" \n",
    "\n",
    "Looking at the list in Question 3, let's say we want to know which indices contain a professor. So, now we need to know the index **and** the value of the list at that index. In order to use the index to look through our list, we need to know how many total containers there are in the list. And since indices are numbers, we can easily use the range function from above. Since we want to loop through all the containers in the list, we start at 0 and end at the total number of containers in the list. Then, we print the index and the value of the list at that index. \n",
    " \n",
    "Here's what that looks like:"
   ]
  },
  {
   "cell_type": "code",
   "execution_count": 68,
   "metadata": {},
   "outputs": [
    {
     "name": "stdout",
     "output_type": "stream",
     "text": [
      "0 Dr. Alessio\n",
      "1 201\n",
      "2 Section 001\n",
      "3 Dr. Ravishankar\n",
      "4 pre-class\n",
      "5 3\n",
      "6 Dr. Frisbie\n",
      "7 Dr. Murillo\n",
      "8 Section 005\n",
      "9 Dr. Perea\n",
      "10 Dr. Finzell\n"
     ]
    }
   ],
   "source": [
    " for i in range(0, len(cmse_grab_bag)): #this can also be written for i in range(len(cmse_grab_bag)):\n",
    "    print(i, cmse_grab_bag[i])"
   ]
  },
  {
   "cell_type": "markdown",
   "metadata": {},
   "source": [
    "We can see that there are professors in the 0, 3, 6, 7, 9, and 10 indices. While this is a simple example, it can easily be expanded to other situations. \n",
    "\n",
    "Now you might be asking, when do I loop by index and when do I loop by the value? Here's some tips: \n",
    "\n",
    "- If you only need to access the values in a single list, without any of the index information, the <code>for value in list:</code> structure is most likely the way to go. \n",
    "\n",
    "- As your code gets more complicated, we often use the <code>for i in range(len(list)): </code> structure. Some examples are:\n",
    "    - When you need the index information, like above\n",
    "    - When you want to access values at the same index in multiple lists\n",
    "    \n",
    "The gif below shows the difference between looping over the value versus the index. Notice that the lists and the output for each are the same.  "
   ]
  },
  {
   "cell_type": "markdown",
   "metadata": {},
   "source": [
    "<img src=https://media.giphy.com/media/RDTzdq71CtvK2TOew9/giphy.gif width=\"600\" height=\"450\" align=\"center\">"
   ]
  },
  {
   "cell_type": "markdown",
   "metadata": {},
   "source": [
    "&#9989;&nbsp; **Task**: Before moving on to while loops, explain the idea of an index to a someone who has never coded before. "
   ]
  },
  {
   "cell_type": "markdown",
   "metadata": {},
   "source": [
    "<font size=\"+3\">&#9998;</font> An index identifies where a value is located in a list. For example, if someone is the last child in a family, you know where they lie in the list of family members but you do not know know *who* it is in that spot. When you identify their name, that is equivalent to the value found in the index."
   ]
  },
  {
   "cell_type": "markdown",
   "metadata": {},
   "source": [
    "### Part 2.2: While loops\n",
    "\n",
    "Watch the following video clip, which introduces the concept of <code>while</code> loops in Python. After you watch the video, answer the questions below.\n",
    "\n",
    "**Note**: Ignore the little bit at the end of the video clip that mentions numpy arrays and the <code>nditer</code> function.\n",
    "\n",
    "If the YouTube video below doesn't work, try this link: https://mediaspace.msu.edu/media/Loops+in+python/0_ls7psyq2?st=823"
   ]
  },
  {
   "cell_type": "code",
   "execution_count": 69,
   "metadata": {},
   "outputs": [
    {
     "data": {
      "image/jpeg": "[encoded data removed]",
      "text/html": [
       "\n",
       "        <iframe\n",
       "            width=\"640\"\n",
       "            height=\"360\"\n",
       "            src=\"https://www.youtube.com/embed/VnTN5sFIPD0?start=823\"\n",
       "            frameborder=\"0\"\n",
       "            allowfullscreen\n",
       "        ></iframe>\n",
       "        "
      ],
      "text/plain": [
       "<IPython.lib.display.YouTubeVideo at 0x111ad6610>"
      ]
     },
     "execution_count": 69,
     "metadata": {},
     "output_type": "execute_result"
    }
   ],
   "source": [
    "# Video on \"while\" loops in Python\n",
    "# Make sure to watch it in full-screen mode!\n",
    "YouTubeVideo(\"VnTN5sFIPD0\",width=640,height=360,start=823)"
   ]
  },
  {
   "cell_type": "markdown",
   "metadata": {},
   "source": [
    "&#9989;&nbsp; **Question 4**: Write a `while` loop that starts with a value of \"`x = 2`\", on each iteration multiples `x` by 2, prints the value of `x`, and keeps running until `x` is greater than 4096."
   ]
  },
  {
   "cell_type": "code",
   "execution_count": 70,
   "metadata": {},
   "outputs": [
    {
     "name": "stdout",
     "output_type": "stream",
     "text": [
      "2\n",
      "4\n",
      "8\n",
      "16\n",
      "32\n",
      "64\n",
      "128\n",
      "256\n",
      "512\n",
      "1024\n",
      "2048\n",
      "4096\n"
     ]
    }
   ],
   "source": [
    "x = 2\n",
    "\n",
    "while x <= 4096:\n",
    "    print(x)\n",
    "    x = 2 * x"
   ]
  },
  {
   "cell_type": "markdown",
   "metadata": {},
   "source": [
    "&#9989;&nbsp; **Task**: Now that you have worked with both </code>for</code> and </code>while </code> loops, what are the main differences between them? How would you explain the difference to a friend who did not get to watch the awesome videos in this lesson? "
   ]
  },
  {
   "cell_type": "markdown",
   "metadata": {},
   "source": [
    "<font size=\"+3\">&#9998;</font> A For loop has a set number of items it loops through. Since For loops iterate through lists, ranges, or arrays, you know (or can quickly identify using len() function) how many total items are in the list *before* looping through. A While loop runs until a certain condition is met. The condition is set ahead of time but you do not know how many times it needs to loop through before meeting the condition."
   ]
  },
  {
   "cell_type": "markdown",
   "metadata": {},
   "source": [
    "---\n",
    "## Part 3: Combining lists and loops.\n",
    "\n",
    "&#9989;&nbsp; **Question 5**: Now we want you to try to use various components of everything you just learned to calculate some values. The cell below includes two lists of values, `x` and `y`. Your task is to initialize two new empty lists, `xsquared` and `ycubed`, iterate through the two lists of values, `x` and `y`, using loops to compute $x^2$ and $y^3$, and store these values in your new lists. Once you've computed all the values, print out the results. \n",
    "\n",
    "**Yes**, this might seem a bit complicated -- that's totally expected. After all, you're still learning to write code! If you find yourself spending too much time to figure this out, make use of Slack or try to drop by office hours or help room hours. Making sure that you spend time on your own trying to work through pre-class activities like this one are important for making your time in class as productive as possible.\n",
    "\n",
    "**Hint**: If you take a look at the table in Part 1 that contains information about lists, you see that it mentions adding values to a list using `.append()`, this is what you'll want to use to fill your `xsquared` and `ycubed` lists. Also, remember that we use `**` to compute powers in Python. So \"2 cubed\" would be `2**3`.\n",
    "\n",
    "Before you write any code, answer these questions:\n",
    "- What information do you need from each list?\n",
    "- How are you going to access that information?\n",
    "- Once you have the information, what are you going to do with it?\n"
   ]
  },
  {
   "cell_type": "markdown",
   "metadata": {},
   "source": [
    "<font size=\"+3\">&#9998;</font> *Put your answer here*"
   ]
  },
  {
   "cell_type": "code",
   "execution_count": 71,
   "metadata": {},
   "outputs": [
    {
     "name": "stdout",
     "output_type": "stream",
     "text": [
      "[4, 16, 36, 64, 100, 144, 196, 256, 324]\n",
      "[1000, 561.515625, 421.875, 343, 274.625, 343, 421.875, 561.515625, 1000]\n"
     ]
    }
   ],
   "source": [
    "x = [2,4,6,8,10,12,14,16,18]\n",
    "y = [10,8.25,7.5,7,6.5,7,7.5,8.25,10]\n",
    "\n",
    "# Put your commands for intializing your new lists below this comment\n",
    "\n",
    "xsquared = list()\n",
    "ycubed = list()\n",
    "\n",
    "# Put your loop(s) for computing x-squared and y-cubed below these comments.\n",
    "# You'll be using .append() to add new values to the lists you just initialized.\n",
    "\n",
    "for i in range(len(x)):\n",
    "    xsquared.append(x[i]**2)\n",
    "    ycubed.append(y[i]**3)\n",
    "    \n",
    "print(xsquared)\n",
    "print(ycubed)"
   ]
  },
  {
   "cell_type": "markdown",
   "metadata": {},
   "source": [
    "---\n",
    "## Follow-up Questions\n",
    "\n",
    "Copy and paste the following questions into the appropriate box in the assignment survey include below and answer them there. (Note: You'll have to fill out the section number and the assignment number and go to the \"NEXT\" section of the survey to paste in these questions.)\n",
    "\n",
    "1. If you had a list variable called `directory`, how you would access the fourth element in this list?\n",
    "\n",
    "2. Explain when you might use a `for` loop versus a `while` loop.\n"
   ]
  },
  {
   "cell_type": "markdown",
   "metadata": {},
   "source": [
    "---\n",
    "## Assignment wrap-up\n",
    "\n",
    "Please fill out the form that appears when you run the code below.  **You must completely fill this out in order to receive credit for the assignment!**"
   ]
  },
  {
   "cell_type": "code",
   "execution_count": 72,
   "metadata": {},
   "outputs": [
    {
     "data": {
      "text/html": [
       "\n",
       "<iframe \n",
       "\tsrc=\"https://cmse.msu.edu/cmse201-pc-survey\" \n",
       "\twidth=\"800px\" \n",
       "\theight=\"600px\" \n",
       "\tframeborder=\"0\" \n",
       "\tmarginheight=\"0\" \n",
       "\tmarginwidth=\"0\">\n",
       "\tLoading...\n",
       "</iframe>\n"
      ],
      "text/plain": [
       "<IPython.core.display.HTML object>"
      ]
     },
     "execution_count": 72,
     "metadata": {},
     "output_type": "execute_result"
    }
   ],
   "source": [
    "from IPython.display import HTML\n",
    "HTML(\n",
    "\"\"\"\n",
    "<iframe \n",
    "\tsrc=\"https://cmse.msu.edu/cmse201-pc-survey\" \n",
    "\twidth=\"800px\" \n",
    "\theight=\"600px\" \n",
    "\tframeborder=\"0\" \n",
    "\tmarginheight=\"0\" \n",
    "\tmarginwidth=\"0\">\n",
    "\tLoading...\n",
    "</iframe>\n",
    "\"\"\"\n",
    ")"
   ]
  },
  {
   "cell_type": "markdown",
   "metadata": {},
   "source": [
    "### Congratulations, you're done!\n",
    "\n",
    "Submit this assignment by uploading it to the course Desire2Learn web page.  Go to the \"Pre-class assignments\" folder, find the appropriate submission folder link, and upload it there.\n",
    "\n",
    "See you in class!"
   ]
  },
  {
   "cell_type": "markdown",
   "metadata": {},
   "source": [
    "&#169; Copyright 2018,  Michigan State University Board of Trustees"
   ]
  },
  {
   "cell_type": "code",
   "execution_count": null,
   "metadata": {},
   "outputs": [],
   "source": []
  },
  {
   "cell_type": "code",
   "execution_count": null,
   "metadata": {},
   "outputs": [],
   "source": []
  },
  {
   "cell_type": "code",
   "execution_count": null,
   "metadata": {},
   "outputs": [],
   "source": []
  }
 ],
 "metadata": {
  "kernelspec": {
   "display_name": "Python 3",
   "language": "python",
   "name": "python3"
  },
  "language_info": {
   "codemirror_mode": {
    "name": "ipython",
    "version": 3
   },
   "file_extension": ".py",
   "mimetype": "text/x-python",
   "name": "python",
   "nbconvert_exporter": "python",
   "pygments_lexer": "ipython3",
   "version": "3.8.8"
  }
 },
 "nbformat": 4,
 "nbformat_minor": 4
}
