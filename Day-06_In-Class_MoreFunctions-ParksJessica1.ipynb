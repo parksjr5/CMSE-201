{
 "cells": [
  {
   "cell_type": "markdown",
   "metadata": {},
   "source": [
    "# Day 6 In-class Assignment: Using functions for fun and profit!\n"
   ]
  },
  {
   "cell_type": "markdown",
   "metadata": {},
   "source": [
    "### <p style=\"text-align: right;\"> &#9989; Jessica Parks\n",
    "<p style=\"text-align: right;\"> &#9989; Zoomed In"
   ]
  },
  {
   "cell_type": "markdown",
   "metadata": {},
   "source": [
    "<img src=\"http://3p76s62sopuo2hcrwa1rxucp.wpengine.netdna-cdn.com/wp-content/uploads/uber-cover-car-hailing.png\" width=400px>\n",
    "\n",
    "As we've mentioned previously, writing functions in Python can be _very_ useful. In this assignment, you'll spend some more time writing functions so that it starts to become second nature. If you get into the habit of writing functions early on, you'll find that you start writing more efficient code as the problems you're trying to solve get more complicated!\n",
    "\n",
    "In this assignment, we'll use functions to compute distances and optimize rideshare routes."
   ]
  },
  {
   "cell_type": "markdown",
   "metadata": {},
   "source": [
    "## Learning Goals:\n",
    "\n",
    "By the end of this assignment you should be able to:\n",
    "\n",
    "* Confidently write and execute functions in Python using varying numbers of input parameters, default parameters, and returned values"
   ]
  },
  {
   "cell_type": "markdown",
   "metadata": {},
   "source": [
    "---\n",
    "## Part 1: Revisiting the last function from the pre-class assignment\n",
    "\n",
    "In your pre-class assignment, you were asked to do the following:\n",
    "\n",
    "1. Write a function called `x_squared`.\n",
    "2. The function should take in a list of $x$-values of any length, but should have a default of [1,2,3].\n",
    "3. The function should return a new list of values that are $x^2$ values of the original input values.\n",
    "4. Print the resulting new list.\n",
    "\n",
    "Hopefully you were able to figure this out, but if not here's one possible solution:"
   ]
  },
  {
   "cell_type": "code",
   "execution_count": 1,
   "metadata": {},
   "outputs": [],
   "source": [
    "def x_squared(x_values=[1,2,3]):\n",
    "    x_sq = []\n",
    "    for x in x_values:\n",
    "        x_sq.append(x**2)\n",
    "        \n",
    "    return x_sq"
   ]
  },
  {
   "cell_type": "code",
   "execution_count": 2,
   "metadata": {},
   "outputs": [
    {
     "name": "stdout",
     "output_type": "stream",
     "text": [
      "[1, 4, 9]\n"
     ]
    }
   ],
   "source": [
    "x2 = x_squared()\n",
    "print(x2)"
   ]
  },
  {
   "cell_type": "markdown",
   "metadata": {},
   "source": [
    "Notice that when the function is called, **it doesn't take any input and yet produces an output**. This is the upside to defining a default value for the input. Of course, I can also make the $x$-values to be anything I want. Like so:"
   ]
  },
  {
   "cell_type": "code",
   "execution_count": 3,
   "metadata": {},
   "outputs": [
    {
     "name": "stdout",
     "output_type": "stream",
     "text": [
      "[9, 25, 100, 36, 49, 4]\n"
     ]
    }
   ],
   "source": [
    "x = [3, -5, 10, -6, -7, 2]\n",
    "x2 = x_squared(x)\n",
    "print(x2)"
   ]
  },
  {
   "cell_type": "markdown",
   "metadata": {},
   "source": [
    "---\n",
    "## Part 2: Computing distances with functions\n",
    "\n",
    "<div align=\"center\"><img src=\"https://i.imgur.com/FrMebl0.png\" width=300px></div>\n",
    "<div style=\"text-align: center\"> Anything look familiar about this map? </div>\n",
    "<br>\n",
    "\n",
    "\n",
    "For the next part of this assignment, we're going to think about how we might be able to write functions that can be used to compute distances on a map.\n",
    "\n",
    "### Part 2.1: Computing the Euclidean distance\n",
    "\n",
    "\"Euclidean distance\" is simply the distance of the straight line that connects two points in Euclidean space. It's basically the distance \"as the crow flies\". On a map, it might look something like this:\n",
    "\n",
    "<div align=\"center\"><img src=\"https://i.imgur.com/KSmguA5.png\" width=500px></div>\n",
    "<div style=\"text-align: center\"> </div>"
   ]
  },
  {
   "cell_type": "markdown",
   "metadata": {},
   "source": [
    "Recall that, for two points defined as $(x_1, y_1)$ and $(x_2, y_2)$, the Euclidean distance is given by:\n",
    "\n",
    "$$d = \\sqrt{(x_1-x_2)^2 + (y_1-y_2)^2} $$\n",
    "\n",
    "### 2.1.1 Plan out your code: Euclidean distance\n",
    "\n",
    "&#9989;&nbsp; **As a group**, design a function called `calc_euc_dist` that calculates the *Euclidean distance* between two points. **Use the `x-squared` function above as a starting point.** Your function should take a **starting point and a stopping point as input variables** and **return** the distance estimate. Don't worry about the units of this distance for this problem.\n",
    "\n",
    "You and your groups members are expected to **use your whiteboard**. \n",
    "\n",
    "*Things to think about:*\n",
    "- What value(s) will your function take?\n",
    "- Will you use any default values?\n",
    "- How will you translate the mathematical expression for the Euclidean distance into code?\n",
    "- What value(s) will your function return?"
   ]
  },
  {
   "cell_type": "markdown",
   "metadata": {},
   "source": [
    "<font size=\"+3\">&#9998;</font> \n",
    "1. The values will take in four values, the starting x and y coordinates and the ending x and y coordinates.\n",
    "2. We will set the ending x and y equal to zero (or the origin)\n",
    "3. We will subtract the initial x value from the final x value. We will do the same for the y values respectively. Then we will square the differences, add them together. Finally take the square root of the sum.\n",
    "4. It will return one value, a float."
   ]
  },
  {
   "cell_type": "markdown",
   "metadata": {},
   "source": [
    "### 2.1.2 Translate your plan into code: Euclidean distance\n",
    "\n",
    "&#9989;&nbsp; Translate your plan from the previous problem into a function that calculates the Euclidean distance between two points.\n",
    "\n",
    "**Work with your group to figure this out!**"
   ]
  },
  {
   "cell_type": "code",
   "execution_count": 4,
   "metadata": {},
   "outputs": [],
   "source": [
    "# Put your function here\n",
    "\n",
    "def calc_euc_dist(x1, y1, x2 = 0, y2 = 0):\n",
    "    return((x1-x2)**2+(y1-y2)**2)**(.5)\n"
   ]
  },
  {
   "cell_type": "markdown",
   "metadata": {},
   "source": [
    "### 2.1.3 Test your code: Euclidean distance\n",
    "\n",
    "&#9989;&nbsp; **Make up some $x$ and $y$ values, plug them into your function, and make sure your code works correctly.** (*How will you know if your code is running correctly?*)"
   ]
  },
  {
   "cell_type": "code",
   "execution_count": 5,
   "metadata": {},
   "outputs": [
    {
     "data": {
      "text/plain": [
       "2.23606797749979"
      ]
     },
     "execution_count": 5,
     "metadata": {},
     "output_type": "execute_result"
    }
   ],
   "source": [
    "# Put your test code here\n",
    "calc_euc_dist(2,7,4,6)"
   ]
  },
  {
   "cell_type": "markdown",
   "metadata": {},
   "source": [
    "### Part 2.2: Computing the \"Lyft\" distance\n",
    "\n",
    "For this part of the assignment, let's say that you've been thinking about starting a new rideshare company similar to Uber or Lyft. You've started thinking about how you should go about estimating the amount you should charge for a given ride, but you've realized that computing the Euclidean distance between two points doesn't really make sense. Now you need to create a new function that computes an estimate for the total distance of the ride for your new \"Lyft-like\" service.\n",
    "\n",
    "When you're driving a car you can't just travel in a straight line between two points, you're forced to drive along the grid structure defined by where the streets are. Your path might look something like this:\n",
    "\n",
    "<div align=\"center\"><img src=\"https://i.imgur.com/ieJ1Z4k.png\" width=500px></div>\n",
    "<div style=\"text-align: center\"> Another potentially familiar place... </div>\n",
    "<br>\n",
    "\n",
    "For the purposes of computing these new \"Lyft\"-like distances, you're going to assume that the drivers for your company are generally pretty good about taking the shortest possible route, and you're also going to assume that, most of the time, the streets will have a pretty standard grid-like structure. After all, it would be pretty hard to predict just how irregular the routes might end up being."
   ]
  },
  {
   "cell_type": "markdown",
   "metadata": {},
   "source": [
    "### 2.2.1 Plan out your code: Lyft Distance\n",
    "\n",
    "&#9989;&nbsp; **As a group**, design a function called `calc_lyft_dist` that calculates the *Lyft distance* between two points. Your function should take a **starting point and a stopping point as input variables** and **return** the distance estimate. Your estimate will essentially tell you how many blocks the driver will travel to get to the destination.\n",
    "\n",
    "You and your groups members are expected to **use your whiteboard**. \n",
    "\n",
    "*Things to think about:*\n",
    "- What value(s) will your function take?\n",
    "- Will you use any default values?\n",
    "- How will you calculate the Lyft distance?\n",
    "- What value(s) will your function return?"
   ]
  },
  {
   "cell_type": "markdown",
   "metadata": {},
   "source": [
    "<font size=\"+3\">&#9998;</font> \n",
    "1. The values will take in a starting x and y coordinate and ending x and y coordinate.\n",
    "2. We will use zero to be the ending x and y values.\n",
    "3. We will take the absolute values of the difference of x values and the difference of y values.\n",
    "4. The function will return one value, the total distance to travel in Lyft."
   ]
  },
  {
   "cell_type": "markdown",
   "metadata": {},
   "source": [
    "### 2.2.2 Translate your plan into code: Lyft distance\n",
    "\n",
    "&#9989;&nbsp; Translate your plan from the previous problem into a function that calculates the Lyft distance between two points.\n",
    "\n",
    "**Work with your group to figure this out!**"
   ]
  },
  {
   "cell_type": "code",
   "execution_count": 6,
   "metadata": {},
   "outputs": [],
   "source": [
    "# Put your function here\n",
    "def calc_lyft_dist(x1, y1, x2, y2):\n",
    "    return abs(x1-x2)+abs(y1-y2)"
   ]
  },
  {
   "cell_type": "markdown",
   "metadata": {},
   "source": [
    "### 2.2.3 Test your code: Lyft distance\n",
    "\n",
    "&#9989;&nbsp; **Make up some $x$ and $y$ values, plug them into your function, and make sure your code works correctly.** (*How will you know if your code is running correctly?*)"
   ]
  },
  {
   "cell_type": "code",
   "execution_count": 7,
   "metadata": {},
   "outputs": [
    {
     "data": {
      "text/plain": [
       "16"
      ]
     },
     "execution_count": 7,
     "metadata": {},
     "output_type": "execute_result"
    }
   ],
   "source": [
    "# Put your test code here\n",
    "calc_lyft_dist(-2,-5,4,5)\n"
   ]
  },
  {
   "cell_type": "markdown",
   "metadata": {},
   "source": [
    "### 2.3 Creating a fare-computing function\n",
    "\n",
    "Let's assume that you want to be able to quickly calculate an estimate for the cost of the trip so that you can let your riders know roughly how much you'll charge them.  To start with, you're going to use a flat rate of **40 cents** per unit distance the driver travels.\n",
    "\n",
    "&#9989;&nbsp; **Write another function** called `trip_cost` that **uses the function you just wrote** for computing the total distance of the ride to ***print* the cost of the trip** so that it reads \"The cost of the trip will be $< amount >\" where < amount > is the total in dollars that the trip will cost. Your function should take the starting point, the stopping point, and the rate (with a default value) as inputs."
   ]
  },
  {
   "cell_type": "code",
   "execution_count": 8,
   "metadata": {},
   "outputs": [],
   "source": [
    "# Put your function here\n",
    "\n",
    "def trip_cost(x1, y1, x2, y2, rate = 0.4):\n",
    "    total = rate * calc_lyft_dist(x1, y1, x2, y2)\n",
    "    print(\"The cost of the trip will be $\",round(total,2))\n"
   ]
  },
  {
   "cell_type": "code",
   "execution_count": 9,
   "metadata": {},
   "outputs": [
    {
     "name": "stdout",
     "output_type": "stream",
     "text": [
      "The cost of the trip will be $ 1.2\n"
     ]
    }
   ],
   "source": [
    "trip_cost(2,7,4,6)"
   ]
  },
  {
   "cell_type": "markdown",
   "metadata": {},
   "source": [
    "---\n",
    "## Part 3: Combining your functions\n",
    "\n",
    "Now that you've written two different functions for finding the distance, you're thinking that it would be more convenient if you could use the same function to compute both the Euclidean distance and the Lyft distance. It would also make it a lot easier to compare how much longer the Lyft distance is than the Euclidean distance.\n",
    "\n",
    "&#9989;&nbsp; **Write a function** that is capable of computing the Euclidean distance **or** the Lyft distance based on a keyword argument call `path_type`. \n",
    "* If the `path_type` is 'Lyft', compute the Lyft distance, otherwise compute the standard Euclidean distance.\n",
    "* Make sure that the default stopping point is (0,0).\n",
    "\n",
    "As before, your function should **return** the distance."
   ]
  },
  {
   "cell_type": "code",
   "execution_count": 10,
   "metadata": {},
   "outputs": [],
   "source": [
    "# Put your code here\n",
    "def path_type(x1, y1,  path = \"Euclidean\", x2=0, y2=0):\n",
    "    if path == \"Lyft\":\n",
    "        return calc_lyft_dist(x1,y1, x2, y2)\n",
    "    else:\n",
    "        return calc_euc_dist(x1,y1,x2,y2)"
   ]
  },
  {
   "cell_type": "code",
   "execution_count": 11,
   "metadata": {},
   "outputs": [
    {
     "data": {
      "text/plain": [
       "6.324555320336759"
      ]
     },
     "execution_count": 11,
     "metadata": {},
     "output_type": "execute_result"
    }
   ],
   "source": [
    "path_type(-2,-6)"
   ]
  },
  {
   "cell_type": "markdown",
   "metadata": {},
   "source": [
    "&#9989;&nbsp; **Write another function** that **uses your previous function** to compute both the Euclidean distance and the Lyft distances and **prints**:\n",
    "\n",
    "\"The Lyft distance is < X > times longer than the Euclidean distance\"\n",
    "\n",
    "where < X > is the appropriate ratio of the two distances.\n",
    "\n",
    "**Compare the two distances** for a starting point of (-2, -6) and stopping point of (4,5)."
   ]
  },
  {
   "cell_type": "code",
   "execution_count": 12,
   "metadata": {},
   "outputs": [],
   "source": [
    "# Put your code here\n",
    "def lyft_bigger_euc(x1, y1, x2 = 0, y2=0):\n",
    "    lyft = path_type(x1,y1,\"Lyft\",x2,y2)\n",
    "    euc = path_type(x1,y1,x2,y2)\n",
    "    print(\"The Lyft distance is\", (lyft/euc),\"times longer than the Euclidean distance.\")\n",
    "        "
   ]
  },
  {
   "cell_type": "code",
   "execution_count": 13,
   "metadata": {},
   "outputs": [
    {
     "name": "stdout",
     "output_type": "stream",
     "text": [
      "The Lyft distance is 1.2649110640673518 times longer than the Euclidean distance.\n"
     ]
    }
   ],
   "source": [
    "lyft_bigger_euc(-2,-6,0,0)"
   ]
  },
  {
   "cell_type": "markdown",
   "metadata": {},
   "source": [
    "---\n",
    "### &#128721; STOP\n",
    "Good work so far! Check in with your instructor regarding your progress so far and see if you have enough time left to continue with today's assignment."
   ]
  },
  {
   "cell_type": "markdown",
   "metadata": {},
   "source": [
    "---\n",
    "## TIME PERMITTING: Planning your route\n",
    "\n",
    "Now that you've worked out a system for estimating travel distances and ride fares, you're ready to start testing your new rideshare service. You fire up your fancy new program and immediately get three simultaneous rider requests, but luckily they all are looking for a ride to the same place -- the airport!\n",
    "\n",
    "You plan on picking up all three passengers on the **same trip** so that you can drop them all off at the same time. You want to take the shortest possible route so that you minimize the cost of gas and, in turn, the amount of money the trip costs you!\n",
    "\n",
    "**The challenge**: You need to create a function that takes in a starting position, a list of three rider locations, and a stopping location and determines the order of rider pickups that will require the least amount of driving. You want to make the default stopping location be the airport, since you figure this is where people will be headed most often. You should be able to use your function for computing the Lyft distance to help solve this problem.\n",
    "\n",
    "### You are expected to work out a plan for your function on your whiteboard! You may need to draw a diagram to figure out how to solve this.\n",
    "\n",
    "Once you've come up with a plan, try **writing the function**. The function should **return the list of rider locations in the appropriate pick-up order and the total distance of the trip**.\n",
    "\n",
    "Let's assume that:\n",
    "\n",
    "1. Your starting location is (-2,3).\n",
    "2. The ride locations are (-1, -2), (3,3), and (2, -1).\n",
    "3. The stopping location, the airport, is at (4,0).\n"
   ]
  },
  {
   "cell_type": "code",
   "execution_count": 14,
   "metadata": {},
   "outputs": [],
   "source": [
    "# Put your code here\n",
    "# Not finished! Will work more on this in class.\n",
    "# def shortest_dist(start_x, start_y, list(), end_x = 4, end_y = 0)\n",
    "    "
   ]
  },
  {
   "cell_type": "markdown",
   "metadata": {},
   "source": [
    "---"
   ]
  },
  {
   "cell_type": "markdown",
   "metadata": {},
   "source": [
    "## Congratulations, you're done!\n",
    "\n",
    "Submit this assignment by uploading it to the course Desire2Learn web page.  Go to the \"In-class assignments\" folder, find the appropriate submission link, and upload it there.\n",
    "\n",
    "See you next class!"
   ]
  },
  {
   "cell_type": "markdown",
   "metadata": {},
   "source": [
    "&#169; Copyright 2021,  Michigan State University Board of Trustees"
   ]
  },
  {
   "cell_type": "code",
   "execution_count": null,
   "metadata": {},
   "outputs": [],
   "source": []
  },
  {
   "cell_type": "code",
   "execution_count": null,
   "metadata": {},
   "outputs": [],
   "source": []
  }
 ],
 "metadata": {
  "kernelspec": {
   "display_name": "Python 3",
   "language": "python",
   "name": "python3"
  },
  "language_info": {
   "codemirror_mode": {
    "name": "ipython",
    "version": 3
   },
   "file_extension": ".py",
   "mimetype": "text/x-python",
   "name": "python",
   "nbconvert_exporter": "python",
   "pygments_lexer": "ipython3",
   "version": "3.8.8"
  }
 },
 "nbformat": 4,
 "nbformat_minor": 4
}
