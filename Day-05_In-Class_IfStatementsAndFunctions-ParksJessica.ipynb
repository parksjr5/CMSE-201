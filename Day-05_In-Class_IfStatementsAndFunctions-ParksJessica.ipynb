{
 "cells": [
  {
   "cell_type": "markdown",
   "metadata": {},
   "source": [
    "# Day 5 In-class Assignment: Savings for Everyone\n",
    "![Snowballs](https://www.palmettocitizens.org/images/personal-savings3.jpg)"
   ]
  },
  {
   "cell_type": "markdown",
   "metadata": {},
   "source": [
    "### <p style=\"text-align: right;\"> &#9989; Jessica Parks\n",
    "<p style=\"text-align: right;\"> &#9989;Zoomed In"
   ]
  },
  {
   "cell_type": "markdown",
   "metadata": {},
   "source": [
    "## Learning Goals:\n",
    "\n",
    "By the end of this assignment you should be able to:\n",
    "\n",
    "* Review code that uses `if`, `elif`, and `else` statments and understand the logical flow of the program\n",
    "* Write `if`/`elif`/`else` statements in Python.\n",
    "* Create and use basic functions in Python.\n"
   ]
  },
  {
   "cell_type": "markdown",
   "metadata": {},
   "source": [
    "---\n",
    "## Part 1: Understanding `if` statements in Python\n",
    "\n",
    "As you saw in the pre-class assignment, `if` statements provide an mechanism for \"**branching**\" to occur in your code. Depending on whether or not something is determined to be true, your code can pursue one branch, or another, or do nothing at all. The `else` statement allows your code to execute *something* even if none of the `if` or `elif` statements you write are found to be true. By combining these sorts of commands in a variety of ways we can create a very complex system of branches in our code.\n",
    "\n",
    "&#9989;&nbsp; **As a group, review and run** the following bit of example code.\n",
    "\n",
    "&#9989;&nbsp; **As a group, add comments** to explain what various parts of the code are doing. "
   ]
  },
  {
   "cell_type": "code",
   "execution_count": 11,
   "metadata": {},
   "outputs": [
    {
     "name": "stdout",
     "output_type": "stream",
     "text": [
      "Square root of 2.0 is 1.4142135623730951\n",
      "Square root is not real.\n",
      "Square root of 16.0 is 4.0\n",
      "Square root of 17.0 is 4.123105625617661\n",
      "Square root is not real.\n",
      "Square root of 23.0 is 4.795831523312719\n",
      "Square root of 0.0 is 0.0\n",
      "2 is positive.\n",
      "-5 is negative.\n",
      "16 is positive.\n",
      "17 is positive.\n",
      "-6 is negative.\n",
      "23 is positive.\n",
      "The number is zero.\n"
     ]
    }
   ],
   "source": [
    "some_numbers = [2, -5, 16, 17, -6, 23, 0]\n",
    "\n",
    "\n",
    "# identifies if # has square root and what it is\n",
    "# for loops are separated, not nested\n",
    "\n",
    "for i in range(len(some_numbers)):          # loops by index\n",
    "    number = float(some_numbers[i])         # makes integers turn into float\n",
    "    if number < 0:\n",
    "        print('Square root is not real.')   # if a number is negative print square root is not real\n",
    "    else:\n",
    "        print('Square root of',number,'is',number**(1/2))     # if number is 0 or positive, \n",
    "                                                              # calculate square root and print\n",
    "\n",
    "# prints sign of number\n",
    "\n",
    "for number in some_numbers:             # loops by value\n",
    "    if number > 0:                     # if number is greater than zero then prints positive\n",
    "        print(number,'is positive.')\n",
    "    elif number < 0:                     # if number is less than zero then prints negative\n",
    "        print(number,'is negative.')\n",
    "    else:                                 # if number is zero then prints zero\n",
    "        print('The number is zero.')"
   ]
  },
  {
   "cell_type": "markdown",
   "metadata": {},
   "source": [
    "&#9989;&nbsp; **Question**: What does `float(some_numbers[i])` do?"
   ]
  },
  {
   "cell_type": "markdown",
   "metadata": {},
   "source": [
    "<font size=\"+3\">&#9998;</font> Turns integers into floats (numbers with decimals)"
   ]
  },
  {
   "cell_type": "markdown",
   "metadata": {},
   "source": [
    "&#9989;&nbsp; **Question**: What does the `len()` function do?"
   ]
  },
  {
   "cell_type": "markdown",
   "metadata": {},
   "source": [
    "<font size=\"+3\">&#9998;</font> returns the length of a list"
   ]
  },
  {
   "cell_type": "markdown",
   "metadata": {},
   "source": [
    "&#9989;&nbsp; **Question**: What does the `range()` function do?"
   ]
  },
  {
   "cell_type": "markdown",
   "metadata": {},
   "source": [
    "<font size=\"+3\">&#9998;</font> identifies the numbers it will iterate through with a start and end point. Sometimes with a certain amount to iterate by too."
   ]
  },
  {
   "cell_type": "markdown",
   "metadata": {},
   "source": [
    "---\n",
    "## Part 2: Writing your own `if` statements\n",
    "\n",
    "Sometimes in computational modeling and data science, you need to be able parse a set of numbers or data and execute particular tasks based on the how those numbers compare to each other. Conditional statements that use things like `<`, `>`, `>=`, or `==` combined with logical operators like `and` and `or` provide an excellent mechanism for comparing values! Try the following:\n",
    "\n",
    "&#9989;&nbsp; **Write a program** that compares three variables v1, v2, and v3 (initial values are provide below) and does the following using `if` statements:\n",
    "\n",
    "1. If v1 is equal to v2, print \"woohoo!\"\n",
    "2. If v1 is the smallest value of the three (i.e., v1 is less than both v2 and v3), print out \"v1 is tiny!\"\n",
    "3. If v1 is the smallest value of the three, add a nested if statement to print out a statement saying whether v2 or v3 is the largest value.\n",
    "\n",
    "Try several values of v1, v2 and v3 and ensure that you see the correct behavior. \n",
    "\n",
    "Make sure you work together with your group to solve this. **Plan it out on the whiteboard!**\n",
    "\n",
    "**Note**: Although you learned briefly about functions in your pre-class assignment, don't worry about using functions just yet!"
   ]
  },
  {
   "cell_type": "code",
   "execution_count": 15,
   "metadata": {},
   "outputs": [],
   "source": [
    "# Put your code here. Initial values for v1, v2, and v3 are provided.\n",
    "# Make sure to test out new values to ensure your code works as intended!\n",
    "\n",
    "v1 = 10\n",
    "v2 = 4\n",
    "v3 = 6\n",
    "\n",
    "if v1 == v2:\n",
    "    print(\"wohoo!\")\n",
    "elif v1 < v2 and v1 < v3:\n",
    "    print(\"v1 is tiny!\")\n",
    "    if v2 < v3:\n",
    "        print(\"v3,\",v3,\", is the largest value\")\n",
    "    elif v3 < v2:\n",
    "        print(\"v2,\",v2,\", is the largest value\")\n",
    "    else:\n",
    "        print(\"none of the conditions described have been met\")"
   ]
  },
  {
   "cell_type": "markdown",
   "metadata": {},
   "source": [
    "&#9989;&nbsp; **Question**: What happens in your code if either v2 or v3 is less than v1? "
   ]
  },
  {
   "cell_type": "markdown",
   "metadata": {},
   "source": [
    "<font size=\"+3\">&#9998;</font> The code does not print anything."
   ]
  },
  {
   "cell_type": "markdown",
   "metadata": {},
   "source": [
    "---\n",
    "## Part 3: Continued Investment\n",
    "\n",
    "You're back at your bank job, calculating the total amount of money people save in their retirement accounts. Previously, your boss asked you to calculate the different amount of money people would save if there was one interest rate for people that started saving early (under 30) and another interest rate (twice the original interest rate) if they started saving later (30 or older). \n",
    "\n",
    "Your boss used your calculations to justify to *their* boss that offering a \"better interest rate for older investors\" was a good marketing strategy. Your boss's boss accepted the plan with one modification. Rather than give people over 30 double the interest rates, the interest rates would be structured in the following way:\n",
    "- People that start to save when they are between **18-24 years old** will receive an interest rate of **6.5%**\n",
    "- People that start to save when they are between **25-31 years old** will receive an interest rate of **8.5%**\n",
    "- People that start to save when they are between **32-39 years old** will receive an interest rate of **11.0%**\n",
    "- People that start to save when they are **40 years or older** will receive an interest rate of **17.0%**\n",
    "\n",
    "(Also, it is assumed that **everyone will retire at 65**)\n",
    "\n",
    "The bank rolled out the plan, and it worked *really well.* Now, there are dozens of new applications for savings accounts, and your boss says you need to calculate the expected savings for all of these new applications. \n",
    "\n",
    "You will need to **write a piece of code that will go through each of these new applications and calculate each individual's expected retirement savings.  Your code should make a list of all of the expected retirement savings.**\n",
    "\n",
    "**Note:** In finding a solution to this problem, we **strongly recommend** that you use your code from the previous assignment involving compound interest."
   ]
  },
  {
   "cell_type": "markdown",
   "metadata": {},
   "source": [
    "### &#9989;&nbsp; 3.1 Plan out your code\n",
    "\n",
    "You and your groups members are **expected to use your whiteboard**. \n",
    "\n",
    "*Things to think about:*\n",
    "- How will you go through each application?\n",
    "- What variables will change for each application?\n",
    "- What calculations do you need to make for each application?\n",
    "- How can you use the code you wrote in the previous compound interest assignment?"
   ]
  },
  {
   "cell_type": "markdown",
   "metadata": {},
   "source": [
    "* First, go through the age of the application to sort it into a group. Then we will look at their savings amount and apply that age groups interest rate to it. Then we will identify who's savings amount it is using their name.\n",
    "* The interest rate will change for each appliction, old retirement amount, new retirement amount their final retirement amount.\n",
    "* I will need to figure out what range their age falls into. Then I will need to calculate their final retirment savings by multiplying the interest rate with their old retirement and adding their contribution.\n",
    "* we can use it for the calculations for each of the if statements in each of the age range"
   ]
  },
  {
   "cell_type": "markdown",
   "metadata": {},
   "source": [
    "### &#9989;&nbsp; 3.2 Write out your code\n",
    "\n",
    "Below are lists of all of the new applications, including the clients name, the amount they will save each year, and the age at which they're starting to save. \n",
    "\n",
    "**Write your code below. Store the final retirement savings in the list `final_retirement_savings`**"
   ]
  },
  {
   "cell_type": "code",
   "execution_count": 66,
   "metadata": {},
   "outputs": [],
   "source": [
    "# New applications\n",
    "client_name = [\"Michael Mitchell\",\"Ashley Moore\",\"Fred Walker\",\"Walter Wood\",\"Jesse Gonzalez\",\"Phillip Sanders\",\"Marie Jenkins\",\"Annie Brown\",\"Christopher King\",\"Carl Phillips\",\"Betty Perez\",\"Ashley Hernandez\",\"Carlos Davis\",\"Richard Jackson\",\"Jean Cox\",\"Sara Allen\",\"Peter Butler\",\"Justin Collins\",\"Kevin Miller\",\"Andrew Russell\"]\n",
    "savings_per_year = [4680,4680,4320,5880,5280,5640,4680,5520,5040,4200,4920,5400,5280,4560,5040,4440,5640,5040,4800,4680]\n",
    "start_savings_age = [20,31,35,39,40,37,26,21,36,25,25,36,33,27,35,31,28,19,31,34]\n",
    "\n",
    "final_retirement_savings = []"
   ]
  },
  {
   "cell_type": "code",
   "execution_count": 67,
   "metadata": {},
   "outputs": [
    {
     "name": "stdout",
     "output_type": "stream",
     "text": [
      "Michael Mitchell 1152799.065398417\n",
      "Ashley Moore 826879.1159805232\n",
      "Fred Walker 859770.1926423404\n",
      "Walter Wood 752632.7740803731\n",
      "Jesse Gonzalez 1542313.6390592945\n",
      "Phillip Sanders 901369.4923344516\n",
      "Marie Jenkins 1271073.0595366121\n",
      "Annie Brown 1271541.5194011605\n",
      "Christopher King 899121.8240985562\n",
      "Carl Phillips 1241866.6522026379\n",
      "Betty Perez 1454758.0782945186\n",
      "Ashley Hernandez 963344.8115341673\n",
      "Carlos Davis 1305868.7331001007\n",
      "Richard Jackson 1137254.7858298777\n",
      "Jean Cox 1003065.2247493975\n",
      "Sara Allen 784475.0587507527\n",
      "Peter Butler 1291211.6161533897\n",
      "Justin Collins 1327211.8511608\n",
      "Kevin Miller 848081.1445954087\n",
      "Andrew Russell 1038553.6566524142\n"
     ]
    }
   ],
   "source": [
    "# Put your code here\n",
    "for i in range(len(start_savings_age)):\n",
    "    age = start_savings_age[i]\n",
    "    if 18 <= age <=24:\n",
    "        interest = 1.065\n",
    "    elif 25 <= age <= 31:\n",
    "        interest = 1.085  \n",
    "    elif 32 <= age <= 39:\n",
    "        interest = 1.11\n",
    "    else:\n",
    "        interest = 1.17\n",
    "        \n",
    "    for j in range(age+1,66):\n",
    "        New_Retirement = Old_Retirement * interest + savings_per_year[i]\n",
    "        Old_Retirement = New_Retirement\n",
    "    final_retirement_savings.append(Old_Retirement) \n",
    "    Old_Retirement = 0\n",
    "    print(client_name[i], final_retirement_savings[i])"
   ]
  },
  {
   "cell_type": "code",
   "execution_count": 68,
   "metadata": {},
   "outputs": [
    {
     "name": "stdout",
     "output_type": "stream",
     "text": [
      "Michael Mitchell will save $1.15 million by the time they retire\n",
      "Ashley Moore will save $0.83 million by the time they retire\n",
      "Fred Walker will save $0.86 million by the time they retire\n",
      "Walter Wood will save $0.75 million by the time they retire\n",
      "Jesse Gonzalez will save $1.54 million by the time they retire\n",
      "Phillip Sanders will save $0.90 million by the time they retire\n",
      "Marie Jenkins will save $1.27 million by the time they retire\n",
      "Annie Brown will save $1.27 million by the time they retire\n",
      "Christopher King will save $0.90 million by the time they retire\n",
      "Carl Phillips will save $1.24 million by the time they retire\n",
      "Betty Perez will save $1.45 million by the time they retire\n",
      "Ashley Hernandez will save $0.96 million by the time they retire\n",
      "Carlos Davis will save $1.31 million by the time they retire\n",
      "Richard Jackson will save $1.14 million by the time they retire\n",
      "Jean Cox will save $1.00 million by the time they retire\n",
      "Sara Allen will save $0.78 million by the time they retire\n",
      "Peter Butler will save $1.29 million by the time they retire\n",
      "Justin Collins will save $1.33 million by the time they retire\n",
      "Kevin Miller will save $0.85 million by the time they retire\n",
      "Andrew Russell will save $1.04 million by the time they retire\n"
     ]
    }
   ],
   "source": [
    "# Print out the final savings for all of the new applications\n",
    "\n",
    "for kk in range(len(final_retirement_savings)):\n",
    "    print(\"{} will save ${:.2f} million by the time they retire\".format(client_name[kk],final_retirement_savings[kk]/1.0e6))"
   ]
  },
  {
   "cell_type": "markdown",
   "metadata": {},
   "source": [
    "&#9989;&nbsp; **Question**: Which client will retire with the *largest* amount of money in their savings account? When did they start saving? How much money did they add every year?"
   ]
  },
  {
   "cell_type": "markdown",
   "metadata": {},
   "source": [
    "<font size=\"+3\">&#9998;</font> Jesse Gonzalez with 2.2 million. They saved 5240 per year and started at age 40."
   ]
  },
  {
   "cell_type": "markdown",
   "metadata": {},
   "source": [
    "&#9989;&nbsp; **Question**: Which client will retire with the *smallest* amount of money in their savings account? When did they start saving? How much money did they add every year?"
   ]
  },
  {
   "cell_type": "markdown",
   "metadata": {},
   "source": [
    "<font size=\"+3\">&#9998;</font> Walter Wood save .75 million. He saved 5880 dollars and started at 39 years old."
   ]
  },
  {
   "cell_type": "markdown",
   "metadata": {},
   "source": [
    "&#9989;&nbsp; **Question**: Compare the people that retired with the most and least amount of money. What was the leading cause of the differences between the two? Is there anything that the person with the least amount of money saved could have done differently?"
   ]
  },
  {
   "cell_type": "markdown",
   "metadata": {},
   "source": [
    "<font size=\"+3\">&#9998;</font> Sarah could have saved more money a year. The interest amounts affected the amount she saved and could have started saving at 40 years old to get a higher interest."
   ]
  },
  {
   "cell_type": "markdown",
   "metadata": {},
   "source": [
    "---\n",
    "### &#128721; STOP\n",
    "Check in with all of your group members to make sure you all understand everything to this point!"
   ]
  },
  {
   "cell_type": "markdown",
   "metadata": {},
   "source": [
    "---\n",
    "## Part 4: Writing functions\n",
    "\n",
    "Functions fulfill a similar role as loops: they allow us to avoid repeating the same code over and over again. The rule of thumb we will use for this class is: \n",
    "\n",
    "### If you need to repeat some piece of code three or more times turn it into a function\n",
    "\n",
    "In today's assignment and a previous assignment, you used a block of code that calculated the total amount of money saved for retirement. Let's use this bit of code to get some practice writing functions.\n",
    "\n",
    "### &#9989;&nbsp; 4.1: Writing a function\n",
    "**Write a function that calculates the total amount of money saved in a retirement account.** You should be able to insert this function directly into the code you wrote in the previous exercise."
   ]
  },
  {
   "cell_type": "code",
   "execution_count": 69,
   "metadata": {},
   "outputs": [],
   "source": [
    "# Put your code for your new function here\n",
    "\n",
    "def retirement_savings(age, interest, savings):      \n",
    "    New_Retirement = 0\n",
    "    for j in range(age+1,66):\n",
    "        New_Retirement = New_Retirement * interest + savings\n",
    "    return New_Retirement        "
   ]
  },
  {
   "cell_type": "markdown",
   "metadata": {},
   "source": [
    "### &#9989;&nbsp; 4.2: Using your Function\n",
    "\n",
    "**In the cell below, put your code from Part 3.2. Use the function you wrote to calculate the total amount of money saved in the retirement account.**"
   ]
  },
  {
   "cell_type": "code",
   "execution_count": 72,
   "metadata": {},
   "outputs": [],
   "source": [
    "# Put your code here\n",
    "final_retirement_savings=[]\n",
    "\n",
    "for i in range(len(start_savings_age)):\n",
    "    age = start_savings_age[i]\n",
    "    if 18 <= age <=24:\n",
    "        interest = 1.065\n",
    "    elif 25 <= age <= 31:\n",
    "        interest = 1.085  \n",
    "    elif 32 <= age <= 39:\n",
    "        interest = 1.11\n",
    "    else:\n",
    "        interest = 1.17\n",
    "    \n",
    "    amount = retirement_savings(age, interest, savings_per_year[i])\n",
    "    final_retirement_savings.append(amount)"
   ]
  },
  {
   "cell_type": "code",
   "execution_count": 73,
   "metadata": {},
   "outputs": [
    {
     "name": "stdout",
     "output_type": "stream",
     "text": [
      "Michael Mitchell will save $1.15 million by the time they retire\n",
      "Ashley Moore will save $0.83 million by the time they retire\n",
      "Fred Walker will save $0.86 million by the time they retire\n",
      "Walter Wood will save $0.75 million by the time they retire\n",
      "Jesse Gonzalez will save $1.54 million by the time they retire\n",
      "Phillip Sanders will save $0.90 million by the time they retire\n",
      "Marie Jenkins will save $1.27 million by the time they retire\n",
      "Annie Brown will save $1.27 million by the time they retire\n",
      "Christopher King will save $0.90 million by the time they retire\n",
      "Carl Phillips will save $1.24 million by the time they retire\n",
      "Betty Perez will save $1.45 million by the time they retire\n",
      "Ashley Hernandez will save $0.96 million by the time they retire\n",
      "Carlos Davis will save $1.31 million by the time they retire\n",
      "Richard Jackson will save $1.14 million by the time they retire\n",
      "Jean Cox will save $1.00 million by the time they retire\n",
      "Sara Allen will save $0.78 million by the time they retire\n",
      "Peter Butler will save $1.29 million by the time they retire\n",
      "Justin Collins will save $1.33 million by the time they retire\n",
      "Kevin Miller will save $0.85 million by the time they retire\n",
      "Andrew Russell will save $1.04 million by the time they retire\n"
     ]
    }
   ],
   "source": [
    "# Print out the final savings for all of the new applications\n",
    "\n",
    "for kk in range(len(final_retirement_savings)):\n",
    "    print(\"{} will save ${:.2f} million by the time they retire\".format(client_name[kk],final_retirement_savings[kk]/1.0e6))"
   ]
  },
  {
   "cell_type": "markdown",
   "metadata": {},
   "source": [
    "---"
   ]
  },
  {
   "cell_type": "markdown",
   "metadata": {},
   "source": [
    "## Congratulations, you're done!\n",
    "\n",
    "Submit this assignment by uploading it to the course Desire2Learn web page.  Go to the \"In-class assignments\" folder, find the appropriate submission link, and upload it there.\n",
    "\n",
    "See you next class!"
   ]
  },
  {
   "cell_type": "markdown",
   "metadata": {},
   "source": [
    "&#169; Copyright 2021,  Michigan State University Board of Trustees"
   ]
  }
 ],
 "metadata": {
  "kernelspec": {
   "display_name": "Python 3",
   "language": "python",
   "name": "python3"
  },
  "language_info": {
   "codemirror_mode": {
    "name": "ipython",
    "version": 3
   },
   "file_extension": ".py",
   "mimetype": "text/x-python",
   "name": "python",
   "nbconvert_exporter": "python",
   "pygments_lexer": "ipython3",
   "version": "3.8.8"
  }
 },
 "nbformat": 4,
 "nbformat_minor": 4
}
