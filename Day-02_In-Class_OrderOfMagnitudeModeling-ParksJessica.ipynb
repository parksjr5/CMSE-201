{
 "cells": [
  {
   "cell_type": "markdown",
   "metadata": {},
   "source": [
    "# Day 2 In-class Assignment: Order of Magnitude Modeling"
   ]
  },
  {
   "cell_type": "markdown",
   "metadata": {},
   "source": [
    "### <p style=\"text-align: right;\"> &#9989; **Jessica Parks** </p>\n",
    "#### <p style=\"text-align: right;\"> &#9989; Caroline, Luke, Thomas, Jack, Richey</p>"
   ]
  },
  {
   "cell_type": "markdown",
   "metadata": {},
   "source": [
    "## How many mice would it take to fill up this classroom?\n",
    "\n",
    "### (a.k.a., making order-of-magnitude estimates for fun and profit!)\n",
    "![Mouse](https://www.jax.org/-/media/jaxweb/images/jax-mice-and-services/mice/web_0009_find-and-order-jax-mice.jpg?h=316&w=467&la=en&hash=D42556D3A616EC2E099378DB9CA5403D0C38C1E4)"
   ]
  },
  {
   "cell_type": "markdown",
   "metadata": {},
   "source": [
    "## Learning Goals \n",
    "\n",
    "Why are we asking you to do this?\n",
    "\n",
    "One type of modeling is called \"order-of-magnitude estimation\" or \"order-of-magnitude modeling.\"  A physicist would call this a \"Fermi Problem\" after Enrico Fermi, a physicist who participated in the Manhattan Project and who was famously good at making estimates of this sort.  More specifically, this sort of modeling makes us think about:\n",
    "\n",
    "* The quantities that should go into our models, and the reasonable values of those quantities.\n",
    "* How the different parts of our model might interact with one another.\n",
    "* What a \"good enough\" answer would be to a particular problem"
   ]
  },
  {
   "cell_type": "markdown",
   "metadata": {},
   "source": [
    "## The Problem\n",
    "\n",
    "In this project, your group is going to calculate an answer one of the following questions:\n",
    "\n",
    "1. How many grams of caffeine get consumed on MSU's campus each week?  \n",
    "2. How much does the air above Lake Superior weigh?\n",
    "3. If somebody left one of the bathroom faucets running at the Breslin Center, how long would it take to fill it up with water?  \n",
    "4. If all of the toilet paper used per week in the United States were rolled out across the surface of Michigan could you cover the entire state? If so, could you cover it more than once?\n",
    "5. Which has more mass, the air in this classroom or the brains in this classroom?  \n",
    "6. On average, how many people are airborne in the world at a given moment?  \n",
    "7. How many total miles do all Americans drive in their cars in one year, and how does this compare to the circumference of the Earth ($2.5 \\times 10^4$ miles), the distance from the Earth to the Sun ($9 \\times 10^7$ miles), and size of the Solar System ($10^9$ miles)?\n",
    "8. After a particularly exciting Spartan football game, the fans rush the field. How many people can fit onto the football field at Spartan Stadium?\n",
    "\n",
    "---\n",
    "# Part 1\n",
    "\n",
    "**As a group**, you will be assigned one of these problems to answer. You will need to come up with:\n",
    "1. The questions that you need to ask and answer to come up with an estimate for your problem.\n",
    "2. The equation(s) you will need to solve your problem.\n",
    "3. The reasonable values that would go into the equation(s).\n",
    "\n",
    "Once you have finished these steps, you and your group will implement a simple computer program to calculate a range of answers to your problem.\n",
    "\n",
    "***Use your whiteboard to write out your ideas so your teammates and instructors can see your ideas/progress***\n",
    "\n",
    "If you have a hybrid team, try a virtual whiteboard app like [Google Jamboard](https://jamboard.google.com/)\n"
   ]
  },
  {
   "cell_type": "markdown",
   "metadata": {},
   "source": [
    "## 1.1 Describing Your Model\n",
    "**In the cell below, write down your assigned question and the parameters in your model.** Also write down the range of possible values for each of the parameters!\n",
    "\n"
   ]
  },
  {
   "cell_type": "markdown",
   "metadata": {},
   "source": [
    "* How many total miles do all Americans drive in their cars in one year, and how does this compare to the circumference of the Earth ($2.5 \\times 10^4$ miles), the distance from the Earth to the Sun ($9 \\times 10^7$ miles), and size of the Solar System ($10^9$ miles)?*\n",
    "\n",
    "**Parameters**\n",
    "\n",
    "\n",
    "* How many miles does the average American drive in one year? *Break down based on oil change*\n",
    "* How many oil changes does the average American get in a year? *2-3 oil changes*\n",
    "* How many miles are driven before the next oil change? *3,000 - 5,000 miles*\n",
    "* What is the average population in the U.S.? *300,000,000 - 400,000,000 people*\n",
    "* What amount of the population drives? *180,000,000 - 320,000,000 people*\n",
    "\n",
    "\n",
    "We are saying the average American drives 6,000-15,000 miles."
   ]
  },
  {
   "cell_type": "markdown",
   "metadata": {},
   "source": [
    "## 1.2 Coding Your Model\n",
    "In the cell below, write a program to calculate and print out an estimate for your model."
   ]
  },
  {
   "cell_type": "markdown",
   "metadata": {},
   "source": [
    "> **Important**: When writing your code, **define variables for each value of interest.**  Then use those variables in your equations.  In other words, do not  hard-code the values in your equations (do not put *numbers* in your equations, put *variables* in your equations).  \n",
    ">\n",
    "> As an example, if I want to compute and then print the area of a right triangle, which I know to be $A = \\frac{1}{2} b h$, I might write my code like so:\n",
    ">\n",
    ">> ```\n",
    ">> base = 10\n",
    ">> height = 5\n",
    ">>\n",
    ">> area = (base * height) / 2\n",
    ">>\n",
    ">> print(\"The area is:\", area)\n",
    ">> ```  \n",
    ">       \n",
    "> By doing this, if I decide I need to change the `base` value or the `height` value, I can just change the value where they are defined. This can be especially useful if I have to use the values multiple times or if I want to experiment with changing the values."
   ]
  },
  {
   "cell_type": "code",
   "execution_count": 21,
   "metadata": {},
   "outputs": [
    {
     "name": "stdout",
     "output_type": "stream",
     "text": [
      "Low range of miles driven:  1080000000000.0\n",
      "High range of miles driven:  4800000000000.0\n",
      "7200.0  number of times Americans can drive around the Earth's circumference in a year.\n",
      "12800.0  number of times Americans can drive around the Earth's circumference in a year.\n",
      "2.0  number of times Americans can drive to the sun in a year.\n",
      "3.5555555555555554  number of times Americans can drive to the sun in a year\n",
      "2.0  number of times Americans can drive across the solar system in a year.\n",
      "3.5555555555555554  number of times Americans can drive across the solar system in a year\n"
     ]
    }
   ],
   "source": [
    "# write a program in this cell to calculate and print out an estimate\n",
    "# of the answer to the question you've chosen to solve!\n",
    "\n",
    "# define variables\n",
    "\n",
    "population_low = 300000000\n",
    "population_high = 400000000\n",
    "miles_low = 3000\n",
    "miles_high = 5000\n",
    "oil_change_low = 2\n",
    "oil_change_high = 3\n",
    "\n",
    "#identify low and high range\n",
    "\n",
    "pop_drive_low = population_low * .6\n",
    "pop_drive_high = population_high * .8\n",
    "\n",
    "miles_driven_low = miles_low * pop_drive_low * oil_change_low\n",
    "miles_driven_high = miles_high * pop_drive_high * oil_change_high\n",
    "\n",
    "print(\"Low range of miles driven: \", miles_driven_low)\n",
    "print(\"High range of miles driven: \", miles_driven_high)\n",
    "\n",
    "\n",
    "# Compare miles driven to Earth Circumference\n",
    "\n",
    "earth_circ = 2.5 * (10**4)\n",
    "\n",
    "circ_low = (pop_drive_low/earth_circ)\n",
    "circ_high = (pop_drive_high/earth_circ)\n",
    "\n",
    "print(circ_low, \" number of times Americans can drive around the Earth's circumference in a year.\")\n",
    "print(circ_high, \" number of times Americans can drive around the Earth's circumference in a year.\")\n",
    "\n",
    "# Compare miles to the sun\n",
    "\n",
    "dist_to_sun = 9.0 * (10**7)\n",
    "\n",
    "sun_low = (pop_drive_low/dist_to_sun)\n",
    "sun_high = (pop_drive_high/dist_to_sun)\n",
    "\n",
    "print(sun_low, \" number of times Americans can drive to the sun in a year.\")\n",
    "print(sun_high, \" number of times Americans can drive to the sun in a year\")\n",
    "\n",
    "# Compare size of solar system\n",
    "\n",
    "solar_system = 1.0 * (10**9)\n",
    "\n",
    "solar_system_low = (pop_drive_low/solar_system)\n",
    "solar_system_high = (pop_drive_high/solar_system)\n",
    "\n",
    "print(sun_low, \" number of times Americans can drive across the solar system in a year.\")\n",
    "print(sun_high, \" number of times Americans can drive across the solar system in a year\")"
   ]
  },
  {
   "cell_type": "markdown",
   "metadata": {},
   "source": [
    "## 1.3 Exploring Model Results\n",
    "**Now, run your model several times**, and each time change the values of the parameters to a different value in the range you think is valid.  In the cell below, write down all of your answers.  What is the total range, and approximately what is the average value?"
   ]
  },
  {
   "cell_type": "markdown",
   "metadata": {},
   "source": [
    "**Range of Miles**\n",
    "\n",
    "* Low range of miles driven:  1080000000000.0\n",
    "* High range of miles driven:  4800000000000.0\n",
    "* Average range of miles driven: 2940000000000\n",
    "\n",
    "**Comparison to Earth's Circumference**\n",
    "\n",
    "* 7200.0  number of times Americans can drive around the Earth's circumference in a year.\n",
    "* 12800.0  number of times Americans can drive around the Earth's circumference in a year.\n",
    "* Average number of times driven around circumference: 1000\n",
    "\n",
    "**Comparison to Distance to Sun**\n",
    "\n",
    "\n",
    "* 2.0  number of times Americans can drive to the sun in a year.\n",
    "* 3.5555555555555554  number of times Americans can drive to the sun in a year\n",
    "* 2.775 average number of times American can drive to the sun in a year\n",
    "\n",
    "**Comparison to Solar System**\n",
    "\n",
    "\n",
    "* 2.0  number of times Americans can drive across the solar system in a year.\n",
    "* 3.5555555555555554  number of times Americans can drive across the solar system in a year\n",
    "* 2.775 average number of times American can drive across the solar system"
   ]
  },
  {
   "cell_type": "markdown",
   "metadata": {},
   "source": [
    "---\n",
    "# Part 2\n",
    "\n",
    "## 2.1 Pick a Second Model\n",
    "**Now, picking one of the other questions and going through the process of making another order-of-magnitude estimate.** Each group must choose a *different* question. Once you have decided on which question you are going to try to tackle, try working through the answer on your own, but check in with the members of your group if you run into issues or want to bounce ideas off each other.\n",
    "\n",
    "**Question**\n",
    "\n",
    "After a particularly exciting Spartan football game, the fans rush the field. How many people can fit onto the football field at Spartan Stadium?"
   ]
  },
  {
   "cell_type": "markdown",
   "metadata": {},
   "source": [
    "## 2.2 Describe the Model\n",
    "**In the cell below, write down your chosen question and the parameters in your model.** Also write down the range of possible values for each of the parameters!"
   ]
  },
  {
   "cell_type": "markdown",
   "metadata": {},
   "source": [
    "* How long is a football field? *120 yards*\n",
    "* How wide is a football field? *50-55 yards*\n",
    "* What is the square footage of a person? *8-15 square feet*"
   ]
  },
  {
   "cell_type": "markdown",
   "metadata": {},
   "source": [
    "## 2.3 Coding the Model\n",
    "\n",
    "In the cell below, write a program to calculate and print out an estimate for your model."
   ]
  },
  {
   "cell_type": "code",
   "execution_count": 22,
   "metadata": {},
   "outputs": [
    {
     "name": "stdout",
     "output_type": "stream",
     "text": [
      "The fewest people on the field possible would be  400.0\n",
      "The most people on the field possible would be  825.0\n"
     ]
    }
   ],
   "source": [
    "# write a program in this cell to calculate and print out an estimate\n",
    "# of the answer to the question you've chosen to solve!\n",
    "\n",
    "# define variables\n",
    "\n",
    "sq_footage_low = 8\n",
    "sq_footage_high = 15\n",
    "\n",
    "length_field = 120\n",
    "width_field_low = 50\n",
    "width_field_high = 55\n",
    "\n",
    "#define low and high football length\n",
    "\n",
    "field_low = length_field * width_field_low\n",
    "field_high = length_field * width_field_high\n",
    "\n",
    "# identify range of people\n",
    "\n",
    "people_low = field_low/sq_footage_high\n",
    "people_high = field_high/sq_footage_low\n",
    "\n",
    "print(\"The fewest people on the field possible would be \", people_low)\n",
    "print(\"The most people on the field possible would be \", people_high)"
   ]
  },
  {
   "cell_type": "markdown",
   "metadata": {},
   "source": [
    "## Congratulations, you're done!\n",
    "\n",
    "Submit this assignment by uploading it to the course Desire2Learn web page.  Go to the \"In-class assignments\" folder, find the appropriate submission link, and upload it there.\n",
    "\n",
    "See you next class!"
   ]
  },
  {
   "cell_type": "markdown",
   "metadata": {},
   "source": [
    "&#169; Copyright 2021,  Michigan State University Board of Trustees"
   ]
  }
 ],
 "metadata": {
  "kernelspec": {
   "display_name": "Python 3",
   "language": "python",
   "name": "python3"
  },
  "language_info": {
   "codemirror_mode": {
    "name": "ipython",
    "version": 3
   },
   "file_extension": ".py",
   "mimetype": "text/x-python",
   "name": "python",
   "nbconvert_exporter": "python",
   "pygments_lexer": "ipython3",
   "version": "3.8.8"
  }
 },
 "nbformat": 4,
 "nbformat_minor": 4
}
