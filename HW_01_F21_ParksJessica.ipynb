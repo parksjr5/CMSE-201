{
 "cells": [
  {
   "cell_type": "markdown",
   "metadata": {},
   "source": [
    "# Homework 1: Introduction to Loops, Lists, and Dictionaries"
   ]
  },
  {
   "cell_type": "markdown",
   "metadata": {},
   "source": [
    "### <p style=\"text-align: right;\"> &#9989; **Jessica Parks** </p>"
   ]
  },
  {
   "cell_type": "markdown",
   "metadata": {},
   "source": [
    "# __CMSE  201 &ndash; Fall 2021__\n",
    "\n",
    "<img src=\"https://cmse.msu.edu/sites/_cmse/assets/Image/image002.jpg\"\n",
    "     alt=\"CMSE Logo\"\n",
    "     align=\"right\" \n",
    "     height=\"100\" \n",
    "     width=\"100\" />\n",
    "\n",
    "# Homework 1: Introduction to Loops, Lists, and Dictionaries\n",
    "\n",
    "## Learning Goals\n",
    "\n",
    "### Content Goals\n",
    "- **Write code to execute simple mathematical operations.**\n",
    "- **Utilize lists to store data**\n",
    "- **Utilize loops to store, access, and manipulate data in a multiple lists**\n",
    "\n",
    "\n",
    "### Practice Goals\n",
    "- **Debugging practices**\n",
    "  - *Isolate and interpret the relevant information in an error code*\n",
    "  - *Use print statements to determine the outcome of operations*\n",
    "- **Describe code and bugs using plain language**\n",
    "\n",
    "\n",
    "___"
   ]
  },
  {
   "cell_type": "markdown",
   "metadata": {},
   "source": [
    "## Assignment instructions\n",
    "\n",
    "Work through the following assignment, making sure to follow all the directions and answer all the questions.\n",
    "\n",
    "**This assignment is due at 11:59 pm on Friday, Sept 17th.** It should be uploaded into the \"Homework Assignments\" submission folder for Homework #1.  Submission instructions can be found at the end of the notebook."
   ]
  },
  {
   "cell_type": "markdown",
   "metadata": {},
   "source": [
    "# 0. Version check\n",
    "\n",
    "Before you begin, make sure your Jupyter kernel is Python3. There are significant differences between Python2 and Python3, and we will use Python3 in this course. The kernel type at the upper-right corner should say \"Python3\", and the following code should show a version 3.x.y.\n",
    "\n",
    "If your kernel is Python2, try selecting Python3 from the Kernel menu above under the submenu \"Change kernel\". If that does not work, consult the Slack help channel for assistance."
   ]
  },
  {
   "cell_type": "code",
   "execution_count": 70,
   "metadata": {},
   "outputs": [
    {
     "name": "stdout",
     "output_type": "stream",
     "text": [
      "3.8.8 (default, Apr 13 2021, 12:59:45) \n",
      "[Clang 10.0.0 ]\n"
     ]
    }
   ],
   "source": [
    "import sys\n",
    "print(sys.version)"
   ]
  },
  {
   "cell_type": "markdown",
   "metadata": {},
   "source": [
    "---\n",
    "## Grading\n",
    "\n",
    "* Practice/Introductory Problems: Lists (5 points)\n",
    "* Practice/Introductory Problems: Dictionaries (4 points)\n",
    "* Debugging Other People's Code: Buggy Code 1 (4 Points)\n",
    "* Debugging Other People's Code: Buggy Code 2 (4 Points)\n",
    "* Debugging YOUR Code: Buggy Code 1 (4 Points)\n",
    "* Debugging YOUR Code: Buggy Code 1 (4 Points)\n",
    "* Coding A Cash Register: Create your Own Test Lists (2 Points)\n",
    "* Coding A Cash Register: Calculating Sum (3 Points)\n",
    "* Coding A Cash Register: Printing Names and Cost (4)\n",
    "* Coding A Cash Register: Multiple Items: Create a New Test List (1 Points)\n",
    "* Coding A Cash Register: Multiple Items: Modiyfing Code to Include Copies (5 Points)\n",
    "* Coding A Cash Register: Test Your Code (2 Points)\n",
    "Total points possible: **42**\n",
    "\n",
    "---"
   ]
  },
  {
   "cell_type": "markdown",
   "metadata": {},
   "source": [
    "---\n",
    "# 1. Practice Problems (9 Points)\n",
    "\n",
    "## 1.1 Lists (5 Points)\n",
    "\n",
    "You have already seen Python \"lists\" in some of your previous work. \n",
    "\n",
    "### &#9989;&nbsp; 1.1.1 Task\n",
    "**Construct two lists, one with your three favorite kinds of fruit, and the other with an explanation of why each fruit is your favorite. Write a `for` loop that prints out the type of fruit and the explanation for why you like it.**\n",
    "\n",
    "*For example*\n",
    "\n",
    "I like Oranges because They remind me of Holland. \n",
    "\n",
    "I like Grapes because Purple is the best color.\n",
    "\n",
    "I like Clementines because They are the Corgis of oranges."
   ]
  },
  {
   "cell_type": "code",
   "execution_count": 71,
   "metadata": {},
   "outputs": [
    {
     "name": "stdout",
     "output_type": "stream",
     "text": [
      "I like pineapples  because they taste sweet.\n",
      "I like apples  because they goes well with peanut butter.\n",
      "I like bananas  because they are a fun color.\n"
     ]
    }
   ],
   "source": [
    "#define lists\n",
    "\n",
    "fruit = [\"pineapples\", \"apples\", \"bananas\"]\n",
    "reason = [\"taste sweet.\", \"goes well with peanut butter.\", \"are a fun color.\"]\n",
    "\n",
    "# variable for iterations\n",
    "\n",
    "i = 0\n",
    "\n",
    "# loop through\n",
    "          \n",
    "for i in range(0,len(fruit)):\n",
    "    print(\"I like\", fruit[i],\" because they\", reason[i])"
   ]
  },
  {
   "cell_type": "markdown",
   "metadata": {},
   "source": [
    "## 1.2 Dictionaries (4 Points)\n",
    "\n",
    "Dictionaries are new. They're like lists, in that they provide a means to store multiple values in a single compound variable. The main differences are:\n",
    "\n",
    "* Dictionaries store values using *keys*, instead of indices (see image below).\n",
    "* You create a new dictionary using curly braces, `{}`, instead of square brackets, `[]`.\n",
    "\n",
    "\n",
    "<img src=\"https://bjc.edc.org/bjc-r/img/python/dictionaries_vs_lists.jpg\"\n",
    "     alt=\"List V. Dict\"\n",
    "     align=\"center\" \n",
    "     height=\"800\" \n",
    "     width=\"800\" />\n",
    "\n",
    "\n",
    "\n",
    "#### NOTE:\n",
    "A more detailed introduction to dictionaries and their functionality can be found at [W3Schools](https://www.w3schools.com/python/python_dictionaries.asp)."
   ]
  },
  {
   "cell_type": "code",
   "execution_count": 72,
   "metadata": {},
   "outputs": [
    {
     "name": "stdout",
     "output_type": "stream",
     "text": [
      "Denver\n"
     ]
    }
   ],
   "source": [
    "#Dictionary example 1: Making a dictionary\n",
    "\n",
    "state_dictionary = {\"Name\": \"Colorado\",\n",
    "                   \"Population\": 5758736,\n",
    "                   \"Capital\": \"Denver\",\n",
    "                   \"State Bird\": \"Lark bunting\"}\n",
    "\n",
    "print(state_dictionary[\"Capital\"])"
   ]
  },
  {
   "cell_type": "code",
   "execution_count": 73,
   "metadata": {},
   "outputs": [
    {
     "name": "stdout",
     "output_type": "stream",
     "text": [
      "Key:  Name     Value:  Colorado\n",
      "Key:  Population     Value:  5758736\n",
      "Key:  Capital     Value:  Denver\n",
      "Key:  State Bird     Value:  Lark bunting\n"
     ]
    }
   ],
   "source": [
    "#Dictionary example 2: Looping through keys and values in a dictionary\n",
    "\n",
    "for key in state_dictionary:\n",
    "    print(\"Key: \",key,\"    Value: \",state_dictionary[key])"
   ]
  },
  {
   "cell_type": "markdown",
   "metadata": {},
   "source": [
    "**Now**, think about an actual (non-coding) dictionary. It's a book with many *values* (definitions), and you look up these values using a specific *key* (word).\n",
    "\n",
    "### &#9989;&nbsp; 1.2.1 Task \n",
    "\n",
    "**Choose three or four words and look up their definitions. Construct a dictionary whose keys are the words and whose values are the definitions.** "
   ]
  },
  {
   "cell_type": "code",
   "execution_count": 74,
   "metadata": {},
   "outputs": [
    {
     "name": "stdout",
     "output_type": "stream",
     "text": [
      "Key:  cell        value:  basic structural unit of all organisms\n",
      "Key:  nucleus        value:  cell part containing DNA\n",
      "Key:  mitochondria        value:  location of respiration and energy production\n",
      "Key:  ribosomes        value:  make proteins\n"
     ]
    }
   ],
   "source": [
    "# Put your code here\n",
    "\n",
    "biology_dictionary = {\"cell\": \"basic structural unit of all organisms\",\n",
    "                  \"nucleus\":\"cell part containing DNA\",\n",
    "                  \"mitochondria\":\"location of respiration and energy production\",\n",
    "                  \"ribosomes\":\"make proteins\"}\n",
    "\n",
    "for key in biology_dictionary:\n",
    "    print(\"Key: \", key, \"       value: \", biology_dictionary[key])\n"
   ]
  },
  {
   "cell_type": "markdown",
   "metadata": {},
   "source": [
    "# 2. Debugging Other People's Code (8 Points)\n",
    "\n",
    "A large part of learning how to code is finding strategies for troubleshooting problems/bugs when they arise. The following exercises will test your ability to identify and solve problems in your code.\n",
    "\n",
    "## An Aside: Turning on Line Numbers\n",
    "The errors that Python will throw at you will usually tell you the ***Line Number*** where the error occurred. However, Jupyter notebooks don't always show line numbers by default, so it will be useful to turn them on.\n",
    "\n",
    "### To Turn Line Numbers\n",
    "1. Go up to **view** (right next *Edit* and *Insert*)\n",
    "2. Click **Toggle Line Numbers**\n",
    "\n",
    "You should now see line numbers on the left side of your cell(s) when you're editing them.\n",
    "\n",
    "## 2.1 Buggy Code 1 (4 Points)\n",
    "\n",
    "**Note:** The first thing you should always do when there is an error is to **look at the line number provided and the specific error code.** You can use these two pieces of information to solve bugs *without needing to understand what the code is doing.* \n",
    "\n",
    "\n",
    "### &#9989;&nbsp; 2.1.1 Fixing the Code (2 Points)\n",
    "The code below is supposed to take a list of protein values, add 10 to each value, and make a histogram.\n",
    "\n",
    "**Rewrite the code below so that it achieves the task it is supposed to.**"
   ]
  },
  {
   "cell_type": "code",
   "execution_count": 75,
   "metadata": {},
   "outputs": [
    {
     "ename": "TypeError",
     "evalue": "unsupported operand type(s) for +: 'int' and 'str'",
     "output_type": "error",
     "traceback": [
      "\u001b[0;31m---------------------------------------------------------------------------\u001b[0m",
      "\u001b[0;31mTypeError\u001b[0m                                 Traceback (most recent call last)",
      "\u001b[0;32m<ipython-input-75-5efbace276ac>\u001b[0m in \u001b[0;36m<module>\u001b[0;34m\u001b[0m\n\u001b[1;32m      5\u001b[0m \u001b[0;34m\u001b[0m\u001b[0m\n\u001b[1;32m      6\u001b[0m \u001b[0;32mfor\u001b[0m \u001b[0mjj\u001b[0m \u001b[0;32min\u001b[0m \u001b[0mrange\u001b[0m\u001b[0;34m(\u001b[0m\u001b[0mlen\u001b[0m\u001b[0;34m(\u001b[0m\u001b[0mprotein\u001b[0m\u001b[0;34m)\u001b[0m\u001b[0;34m)\u001b[0m\u001b[0;34m:\u001b[0m\u001b[0;34m\u001b[0m\u001b[0;34m\u001b[0m\u001b[0m\n\u001b[0;32m----> 7\u001b[0;31m     \u001b[0mprotein\u001b[0m\u001b[0;34m[\u001b[0m\u001b[0mjj\u001b[0m\u001b[0;34m]\u001b[0m \u001b[0;34m=\u001b[0m \u001b[0mprotein\u001b[0m\u001b[0;34m[\u001b[0m\u001b[0mjj\u001b[0m\u001b[0;34m]\u001b[0m\u001b[0;34m+\u001b[0m\u001b[0;34m'10'\u001b[0m\u001b[0;34m\u001b[0m\u001b[0;34m\u001b[0m\u001b[0m\n\u001b[0m\u001b[1;32m      8\u001b[0m \u001b[0;34m\u001b[0m\u001b[0m\n\u001b[1;32m      9\u001b[0m \u001b[0mplt\u001b[0m\u001b[0;34m.\u001b[0m\u001b[0mhist\u001b[0m\u001b[0;34m(\u001b[0m\u001b[0mprotein\u001b[0m\u001b[0;34m)\u001b[0m\u001b[0;34m\u001b[0m\u001b[0;34m\u001b[0m\u001b[0m\n",
      "\u001b[0;31mTypeError\u001b[0m: unsupported operand type(s) for +: 'int' and 'str'"
     ]
    }
   ],
   "source": [
    "# Buggy Code 1\n",
    "import matplotlib.pyplot as plt\n",
    "\n",
    "protein = [32,12,15,34,32,36,28,29,27,32,6,6,27,8,32,3,33,14,38]\n",
    "\n",
    "for jj in range(len(protein)):\n",
    "    protein[jj] = protein[jj]+'10'\n",
    "\n",
    "plt.hist(protein)\n",
    "plt.show()"
   ]
  },
  {
   "cell_type": "code",
   "execution_count": 76,
   "metadata": {},
   "outputs": [
    {
     "data": {
      "image/png": "[encoded data removed]",
      "text/plain": [
       "<Figure size 432x288 with 1 Axes>"
      ]
     },
     "metadata": {
      "needs_background": "light"
     },
     "output_type": "display_data"
    }
   ],
   "source": [
    "# Remove the '' from around the addition of 10. \n",
    "# This adds 10 as an integer rather than a character as it did before\n",
    "\n",
    "import matplotlib.pyplot as plt\n",
    "\n",
    "protein = [32,12,15,34,32,36,28,29,27,32,6,6,27,8,32,3,33,14,38]\n",
    "\n",
    "for jj in range(len(protein)):\n",
    "    protein[jj] = protein[jj]+10      # '' removed from around 10\n",
    "\n",
    "plt.hist(protein)\n",
    "plt.show()"
   ]
  },
  {
   "cell_type": "markdown",
   "metadata": {},
   "source": [
    "### &#9989;&nbsp; 2.1.2 Explaining the Problem and the Solution (2 Points)\n",
    "\n",
    "In the space below, explain the problem and your solution. You should include the following information:\n",
    "1. The line of code that caused the error(s)\n",
    "2. (Where appropriate) The error code\n",
    "3. A plain english description of the error(s) in the code\n",
    "4. How you solved the error(s)"
   ]
  },
  {
   "cell_type": "markdown",
   "metadata": {},
   "source": [
    "<span style='background :yellow' > **ANSWER** </span>\n",
    "\n",
    "1. The error occurred at Line 7.\n",
    "2. When I ran the program the error code read \"unsupported operand type(s) for +: 'int' and 'str'\".\n",
    "3. What this means is a string was trying to be added to integers which is not possible.\n",
    "4. To fix this, I removed the '' from around the 10, changing it from a string, as indicated by single or double quotes, to an integer."
   ]
  },
  {
   "cell_type": "markdown",
   "metadata": {},
   "source": [
    "## 2.2 Buggy Code 2 (4 Points)\n",
    "\n",
    "**Note** Sometimes the code that you get won't throw an error. *That does not mean it is running correctly.* **You should always check to make sure that your code is running correctly.**\n",
    "\n",
    "### &#9989;&nbsp; 2.2.1 Fixing the Code (2 Points)\n",
    "The code below has a list of calories from different foods and is supposed to multiply each value by two and sum them together. So, for instance, if we had a list that was `[120, 65, 220]`, then the code should return `(120*2) + (65*2) + (220*2) = 810`.\n",
    "\n",
    "**Rewrite the code below so that it achieves the task it is supposed to.**"
   ]
  },
  {
   "cell_type": "code",
   "execution_count": 77,
   "metadata": {},
   "outputs": [
    {
     "name": "stdout",
     "output_type": "stream",
     "text": [
      "380.0\n"
     ]
    }
   ],
   "source": [
    "#Buggy code 2\n",
    "\n",
    "calories = [270,75,375,475,235,345,340,190]\n",
    "\n",
    "for ii in range(len(calories)):\n",
    "    sum_of_cals = 2.0*calories[ii]\n",
    "\n",
    "print(sum_of_cals)"
   ]
  },
  {
   "cell_type": "code",
   "execution_count": 78,
   "metadata": {},
   "outputs": [
    {
     "name": "stdout",
     "output_type": "stream",
     "text": [
      "4610.0\n"
     ]
    }
   ],
   "source": [
    "# Write your solution here\n",
    "\n",
    "calories = [270,75,375,475,235,345,340,190]\n",
    "sum_of_cals = 0\n",
    "\n",
    "for ii in range(len(calories)):\n",
    "    sum_of_cals = 2.0*calories[ii] + sum_of_cals\n",
    "\n",
    "print(sum_of_cals)"
   ]
  },
  {
   "cell_type": "markdown",
   "metadata": {},
   "source": [
    "### &#9989;&nbsp; 2.2.2 Explaining the Problem and the Solution (2 Points)\n",
    "\n",
    "In the space below, explain the problem and your solution. You should include the following information:\n",
    "1. The line of code that caused the error(s)\n",
    "2. (Where appropriate) The error code\n",
    "3. A plain english description of the error(s) in the code\n",
    "4. How you solved the error(s)"
   ]
  },
  {
   "cell_type": "markdown",
   "metadata": {},
   "source": [
    "<span style='background :yellow' > **ANSWER** </span>\n",
    "\n",
    "1. The line code that caused the error was line 6 along with needing to assign a value to sum_of_cals in the beginning to address the problem.  \n",
    "2. There was technically no error code but the value produced was not the correct output.\n",
    "3. The error in the code only produced what would be the last value of the list multiplied by 2. The code did not add the prior values of the list that had been multiplied by 2. \n",
    "4. To correct this, I created a loop so the index of the list that would be multiplied by two would then be added to the sum of the values before it. To start this loop, I set sum_of_cals = 0 so the first index would be added to 0. This would then equal sum_of_cals which would be added to the next index multiplied by 2."
   ]
  },
  {
   "cell_type": "markdown",
   "metadata": {},
   "source": [
    "# 3. Debugging YOUR Code (8 Points)\n",
    "\n",
    "For this problem, you will be using two errors that you have encountered in your work--in your pre-class assignments, in-class assignments, or even this homework assignment. **NOTE:** each of your pieces of buggy code should have ***different error codes***. (For example, if your first buggy code has a `TypeError` error code, then your second buggy code must have a *different* error code.)\n",
    "\n",
    "## 3.1 Your Buggy Code 1 (4 Points)\n",
    "\n",
    "### &#9989;&nbsp; 3.1.1 The Buggy Code (1 Points) \n",
    "**Copy over your buggy piece of code. Include a comment at the top indicating which assignment the code came from.**\n",
    "\n"
   ]
  },
  {
   "cell_type": "code",
   "execution_count": 79,
   "metadata": {},
   "outputs": [
    {
     "ename": "IndexError",
     "evalue": "list index out of range",
     "output_type": "error",
     "traceback": [
      "\u001b[0;31m---------------------------------------------------------------------------\u001b[0m",
      "\u001b[0;31mIndexError\u001b[0m                                Traceback (most recent call last)",
      "\u001b[0;32m<ipython-input-79-4007698aa0d4>\u001b[0m in \u001b[0;36m<module>\u001b[0;34m\u001b[0m\n\u001b[1;32m      6\u001b[0m \u001b[0;34m\u001b[0m\u001b[0m\n\u001b[1;32m      7\u001b[0m \u001b[0;32mfor\u001b[0m \u001b[0mii\u001b[0m \u001b[0;32min\u001b[0m \u001b[0mrange\u001b[0m\u001b[0;34m(\u001b[0m\u001b[0mlen\u001b[0m\u001b[0;34m(\u001b[0m\u001b[0mcalories\u001b[0m\u001b[0;34m)\u001b[0m\u001b[0;34m)\u001b[0m\u001b[0;34m:\u001b[0m\u001b[0;34m\u001b[0m\u001b[0;34m\u001b[0m\u001b[0m\n\u001b[0;32m----> 8\u001b[0;31m     \u001b[0msum_of_cals\u001b[0m \u001b[0;34m=\u001b[0m \u001b[0mcalories\u001b[0m\u001b[0;34m[\u001b[0m\u001b[0;36m2\u001b[0m\u001b[0;34m*\u001b[0m\u001b[0mii\u001b[0m\u001b[0;34m]\u001b[0m \u001b[0;34m+\u001b[0m \u001b[0msum_of_cals\u001b[0m    \u001b[0;31m# tried to multiply within list\u001b[0m\u001b[0;34m\u001b[0m\u001b[0;34m\u001b[0m\u001b[0m\n\u001b[0m\u001b[1;32m      9\u001b[0m \u001b[0;34m\u001b[0m\u001b[0m\n\u001b[1;32m     10\u001b[0m \u001b[0mprint\u001b[0m\u001b[0;34m(\u001b[0m\u001b[0msum_of_cals\u001b[0m\u001b[0;34m)\u001b[0m\u001b[0;34m\u001b[0m\u001b[0;34m\u001b[0m\u001b[0m\n",
      "\u001b[0;31mIndexError\u001b[0m: list index out of range"
     ]
    }
   ],
   "source": [
    "# Assignments from HW #1, 2.2.1\n",
    "# AKA the assignment above! :)\n",
    "\n",
    "calories = [270,75,375,475,235,345,340,190]\n",
    "sum_of_cals = 0\n",
    "\n",
    "for ii in range(len(calories)):\n",
    "    sum_of_cals = calories[2*ii] + sum_of_cals    # tried to multiply within list\n",
    "\n",
    "print(sum_of_cals)\n"
   ]
  },
  {
   "cell_type": "markdown",
   "metadata": {},
   "source": [
    "### &#9989;&nbsp; 3.1.2 Fixing the Code (1 Points)\n",
    "**Rewrite the buggy code so that it achieves the task it is supposed to.**"
   ]
  },
  {
   "cell_type": "code",
   "execution_count": 80,
   "metadata": {},
   "outputs": [
    {
     "name": "stdout",
     "output_type": "stream",
     "text": [
      "4610\n"
     ]
    }
   ],
   "source": [
    "# Write your fixed code here\n",
    "calories = [270,75,375,475,235,345,340,190]\n",
    "sum_of_cals = 0\n",
    "\n",
    "for ii in range(len(calories)):\n",
    "    sum_of_cals = 2*calories[ii] + sum_of_cals  \n",
    "\n",
    "print(sum_of_cals)"
   ]
  },
  {
   "cell_type": "markdown",
   "metadata": {},
   "source": [
    "### &#9989;&nbsp; 3.1.3 Explaining the Problem and the Solution (2 Points)\n",
    "\n",
    "In the space below, explain the problem and your solution. You should include the following information:\n",
    "1. The line of code that caused the error(s)\n",
    "2. (Where appropriate) The error code\n",
    "3. A plain english description of the error(s) in the code\n",
    "4. How you solved the error(s)"
   ]
  },
  {
   "cell_type": "markdown",
   "metadata": {},
   "source": [
    "<span style='background :yellow' > **ANSWER** </span>\n",
    "\n",
    "1. The line of code that caused the error was Line 8\n",
    "2. IndexError: list index out of range\n",
    "3. By multiplying the index, it would produce a larger index number that would not actually be within the list. For example, if we chose index 5 within calories it would look like calories[2 * 5] = calories[10]. There is no 10th index within the list so it is out of range.\n",
    "4. I was trying to multiply the *value* found at each index by 2. Therefore, instead of multiplying the index, I multiplied what value was found at calories[ii] by moving the multiplication of two outside of the calories list. (In hindsight, I realize this code was provided to me and I had to no reason to think it would need to be changed but nonetheless, I still did so. Sorry!)"
   ]
  },
  {
   "cell_type": "markdown",
   "metadata": {},
   "source": [
    "## 3.2 Your Buggy Code 2 (4 Points)\n",
    "**Reminder** that your second piece of buggy code must have a ***different error code*** than your first piece of buggy code.\n",
    "\n",
    "### &#9989;&nbsp; 3.2.1 The Buggy Code (1 Points) \n",
    "**Copy your buggy piece of code. Include a comment at the top indicating which assignment the code came from.**"
   ]
  },
  {
   "cell_type": "code",
   "execution_count": 81,
   "metadata": {},
   "outputs": [
    {
     "ename": "TypeError",
     "evalue": "list indices must be integers or slices, not str",
     "output_type": "error",
     "traceback": [
      "\u001b[0;31m---------------------------------------------------------------------------\u001b[0m",
      "\u001b[0;31mTypeError\u001b[0m                                 Traceback (most recent call last)",
      "\u001b[0;32m<ipython-input-81-60a1092dd8f1>\u001b[0m in \u001b[0;36m<module>\u001b[0;34m\u001b[0m\n\u001b[1;32m     13\u001b[0m \u001b[0;34m\u001b[0m\u001b[0m\n\u001b[1;32m     14\u001b[0m \u001b[0;32mfor\u001b[0m \u001b[0mi\u001b[0m \u001b[0;32min\u001b[0m \u001b[0mfruit\u001b[0m\u001b[0;34m:\u001b[0m\u001b[0;34m\u001b[0m\u001b[0;34m\u001b[0m\u001b[0m\n\u001b[0;32m---> 15\u001b[0;31m     \u001b[0mprint\u001b[0m\u001b[0;34m(\u001b[0m\u001b[0;34m\"I like\"\u001b[0m\u001b[0;34m,\u001b[0m \u001b[0mi\u001b[0m\u001b[0;34m,\u001b[0m\u001b[0;34m\" because they\"\u001b[0m\u001b[0;34m,\u001b[0m \u001b[0mreason\u001b[0m\u001b[0;34m[\u001b[0m\u001b[0mi\u001b[0m\u001b[0;34m]\u001b[0m\u001b[0;34m)\u001b[0m\u001b[0;34m\u001b[0m\u001b[0;34m\u001b[0m\u001b[0m\n\u001b[0m",
      "\u001b[0;31mTypeError\u001b[0m: list indices must be integers or slices, not str"
     ]
    }
   ],
   "source": [
    "# Code from HW problem 1.1.1 Task from above\n",
    "\n",
    "#define lists\n",
    "\n",
    "fruit = [\"pineapples\", \"apples\", \"bananas\"]\n",
    "reason = [\"taste sweet.\", \"goes well with peanut butter.\", \"are a fun color.\"]\n",
    "\n",
    "# variable for iterations\n",
    "\n",
    "i = 0\n",
    "\n",
    "# loop through\n",
    "          \n",
    "for i in fruit:\n",
    "    print(\"I like\", i,\" because they\", reason[i])\n"
   ]
  },
  {
   "cell_type": "markdown",
   "metadata": {},
   "source": [
    "### &#9989;&nbsp; 3.2.2 Fixing the Code (1 Points)\n",
    "**Rewrite the buggy code so that it achieves the task it is supposed to.**"
   ]
  },
  {
   "cell_type": "code",
   "execution_count": 82,
   "metadata": {},
   "outputs": [
    {
     "name": "stdout",
     "output_type": "stream",
     "text": [
      "I like pineapples  because they taste sweet.\n",
      "I like apples  because they goes well with peanut butter.\n",
      "I like bananas  because they are a fun color.\n"
     ]
    }
   ],
   "source": [
    "#define lists\n",
    "\n",
    "fruit = [\"pineapples\", \"apples\", \"bananas\"]\n",
    "reason = [\"taste sweet.\", \"goes well with peanut butter.\", \"are a fun color.\"]\n",
    "\n",
    "# variable for iterations\n",
    "\n",
    "i = 0\n",
    "\n",
    "# loop through\n",
    "          \n",
    "for i in range(0,len(fruit)):\n",
    "    print(\"I like\", fruit[i],\" because they\", reason[i])\n"
   ]
  },
  {
   "cell_type": "markdown",
   "metadata": {},
   "source": [
    "### &#9989;&nbsp; 3.2.3 Explaining the Problem and the Solution (2 Points)\n",
    "\n",
    "In the space below, explain the problem and your solution. You should include the following information:\n",
    "1. The line of code that caused the error(s)\n",
    "2. (Where appropriate) The error code\n",
    "3. A plain english description of the error(s) in the code\n",
    "4. How you solved the error(s)"
   ]
  },
  {
   "cell_type": "markdown",
   "metadata": {},
   "source": [
    "<span style='background :yellow' > **ANSWER** </span>\n",
    "\n",
    "1. Line of code with error is Line 15\n",
    "2. TypeError: list indices must be integers or slices, not str\n",
    "3. When \"i\" is used in this specifically structured 'for' loop, it is looping by value. But I also placed \"i\" in a list as an index. Therefore, I have \"i\" looping as a value in one list and an index in another which is not possbile.\n",
    "4. I rewrote the 'for' loop so \"i\" is looping through the range of indices in the \"fruit\" list and also looping through the indices of the \"reason\" list."
   ]
  },
  {
   "cell_type": "markdown",
   "metadata": {},
   "source": [
    "# 4. Coding A Cash Register\n",
    "You work for a company that makes cash registers, and you’ve been tasked with writing a piece of code for printing out receipts. \n",
    "As items are being rung up at checkout, two pieces of information are stored:\n",
    "1. The name of the item\n",
    "2. The cost (per unit) of the item.\n",
    "These two pieces of information are stored in separate lists (see the example below)."
   ]
  },
  {
   "cell_type": "code",
   "execution_count": 83,
   "metadata": {},
   "outputs": [],
   "source": [
    "#Example lists\n",
    "item_names = [\"Water Bottle\"]\n",
    "item_per_unit_prices = [22.99]"
   ]
  },
  {
   "cell_type": "markdown",
   "metadata": {},
   "source": [
    "## &#9989;&nbsp; 4.1 Create your Own Test Lists (2 Points)\n",
    "Before you begin, it’s best to have some example data for testing your code. Check [Amazon](https://www.amazon.com/), [Target](https://www.target.com/), [Walmart](https://www.walmart.com/), or anywhere else to find three or four items and their prices. Turn them into lists that you can use to test your code. \n"
   ]
  },
  {
   "cell_type": "code",
   "execution_count": 84,
   "metadata": {},
   "outputs": [],
   "source": [
    "#Add your lists here\n",
    "\n",
    "item_names = [\"pillow\", \"candle\", \"blanket\", \"mug\"]\n",
    "item_per_unit_prices = [20.00, 12.00, 24.99, 5.99]"
   ]
  },
  {
   "cell_type": "markdown",
   "metadata": {},
   "source": [
    "## &#9989;&nbsp; 4.2 Calculating Sum (3 Points)\n",
    "\n",
    "As a first step, **create a loop that calculates the sum total of the price of each item. Your final code should print out the total cost of all of the items.**"
   ]
  },
  {
   "cell_type": "code",
   "execution_count": 85,
   "metadata": {},
   "outputs": [
    {
     "name": "stdout",
     "output_type": "stream",
     "text": [
      "62.98\n"
     ]
    }
   ],
   "source": [
    "#Write your code for calculating sum here\n",
    "\n",
    "total_cost  = 0\n",
    "\n",
    "for i in range(0,len(item_per_unit_prices)):\n",
    "    total_cost = item_per_unit_prices[i] + total_cost\n",
    "    i +=1\n",
    "\n",
    "print(total_cost)"
   ]
  },
  {
   "cell_type": "markdown",
   "metadata": {},
   "source": [
    "## &#9989;&nbsp; 4.3 Printing Names and Cost (4 Points)\n",
    "**Now modify your code from the previous part so that it *also* prints the name and price of each item. That is, your code should print out:**\n",
    "\n",
    "***The item name  ,   The cost of the item***\n",
    "\n",
    "As well as the sum total at the end."
   ]
  },
  {
   "cell_type": "code",
   "execution_count": 86,
   "metadata": {},
   "outputs": [
    {
     "name": "stdout",
     "output_type": "stream",
     "text": [
      "pillow 20.0\n",
      "candle 12.0\n",
      "blanket 24.99\n",
      "mug 5.99\n",
      "Total Cost:  62.98\n"
     ]
    }
   ],
   "source": [
    "#Write your code for calculating sum AND printing out name and price here\n",
    "\n",
    "total_cost  = 0\n",
    "\n",
    "for i in range(0,len(item_per_unit_prices)):\n",
    "        total_cost = item_per_unit_prices[i] + total_cost\n",
    "        print(item_names[i], item_per_unit_prices[i])\n",
    "        i +=1\n",
    "        \n",
    "\n",
    "print(\"Total Cost: \", total_cost)"
   ]
  },
  {
   "cell_type": "markdown",
   "metadata": {},
   "source": [
    "## 4.4 Multiple Items\n",
    "People will often buy more than one copy of a single item (e.g., two 1 gallon jugs of milk or six copies of Shrek on Blu Ray). Each copy of an item doesn’t get its own line; there’s only one line, and we put how many copies were purchased. This means we need a new piece of information; how many copies were purchased. Let’s put this in a new list."
   ]
  },
  {
   "cell_type": "code",
   "execution_count": 87,
   "metadata": {},
   "outputs": [],
   "source": [
    "#Example lists\n",
    "item_names = [\"Water Bottle\"]\n",
    "item_copies = [2]\n",
    "item_per_unit_prices = [22.99]"
   ]
  },
  {
   "cell_type": "markdown",
   "metadata": {},
   "source": [
    "### &#9989;&nbsp; 4.4.1 Create a New Test List (1 Points)\n",
    "\n",
    "**Add a new list that includes the number of copies of each item being purchased.**"
   ]
  },
  {
   "cell_type": "code",
   "execution_count": 88,
   "metadata": {},
   "outputs": [],
   "source": [
    "#Add your lists here\n",
    "\n",
    "item_names = [\"pillow\", \"candle\", \"blanket\", \"mug\"]\n",
    "item_copies = [3, 2, 1, 2]\n",
    "item_per_unit_prices = [20.00, 12.00, 24.99, 5.99]"
   ]
  },
  {
   "cell_type": "markdown",
   "metadata": {},
   "source": [
    "### &#9989;&nbsp; 4.4.2 Modiyfing Code to Include Copies (5 Points)"
   ]
  },
  {
   "cell_type": "markdown",
   "metadata": {},
   "source": [
    "**Modify your code from the previous part, so it takes into account how many copies are purchased. Your final code should print out:**\n",
    "\n",
    "***How many copies were purchased   The item name   The total cost of all copies of this item***\n",
    "\n",
    "As well as the sum total at the end."
   ]
  },
  {
   "cell_type": "code",
   "execution_count": 90,
   "metadata": {},
   "outputs": [
    {
     "name": "stdout",
     "output_type": "stream",
     "text": [
      "3 pillow 20.0\n",
      "2 candle 12.0\n",
      "1 blanket 24.99\n",
      "2 mug 5.99\n",
      "Total Cost:  120.97\n"
     ]
    }
   ],
   "source": [
    "#Write your code for calculating sum AND printing out number of copies, the name, and price here\n",
    "\n",
    "total_cost  = 0\n",
    "\n",
    "for i in range(0,len(item_per_unit_prices)):\n",
    "        total_cost = (item_copies[i] * item_per_unit_prices[i]) + total_cost\n",
    "        print(item_copies[i], item_names[i], item_per_unit_prices[i])\n",
    "        i +=1\n",
    "        \n",
    "\n",
    "print(\"Total Cost: \", total_cost)"
   ]
  },
  {
   "cell_type": "markdown",
   "metadata": {},
   "source": [
    "### &#9989;&nbsp; 4.5 Test Your Code (2 Points)\n",
    "Below we have provided an example set of lists to test your code and make sure it runs correctly."
   ]
  },
  {
   "cell_type": "code",
   "execution_count": 91,
   "metadata": {},
   "outputs": [],
   "source": [
    "item_names = [\"Water Bottle\",\"Orange Juice\",\"Litebrite\",\"Ceramic Pig Bowl\",\"Crocs\",\"Marine Iguana Plush Toy\",\"Glitter Bunny Ears Throw Pillow\",\"Lil Sloth 100 Piece Animal-Shaped Jigsaw Puzzle\",\"Robot UnicornBot Kit\",\"JoJo Siwa Unicorn LED Nightlight Pink\",\"Antsy Pants Unicorn Lawn Bowling Set\"]\n",
    "item_copies = [2,2,1,2,9,3,15,5,2,12,1]\n",
    "item_per_unit_prices = [22.99,4.29,12.79,32.4,19.99,21.99,29.99,33.99,99.99,25.15,24.99]"
   ]
  },
  {
   "cell_type": "code",
   "execution_count": 92,
   "metadata": {},
   "outputs": [
    {
     "name": "stdout",
     "output_type": "stream",
     "text": [
      "2 Water Bottle 22.99\n",
      "2 Orange Juice 4.29\n",
      "1 Litebrite 12.79\n",
      "2 Ceramic Pig Bowl 32.4\n",
      "9 Crocs 19.99\n",
      "3 Marine Iguana Plush Toy 21.99\n",
      "15 Glitter Bunny Ears Throw Pillow 29.99\n",
      "5 Lil Sloth 100 Piece Animal-Shaped Jigsaw Puzzle 33.99\n",
      "2 Robot UnicornBot Kit 99.99\n",
      "12 JoJo Siwa Unicorn LED Nightlight Pink 25.15\n",
      "1 Antsy Pants Unicorn Lawn Bowling Set 24.99\n",
      "Total Cost:  1524.6\n"
     ]
    }
   ],
   "source": [
    "#Test your code here\n",
    "\n",
    "#Write your code for calculating sum AND printing out number of copies, the name, and price here\n",
    "\n",
    "total_cost  = 0\n",
    "\n",
    "for i in range(0,len(item_per_unit_prices)):\n",
    "        total_cost = (item_copies[i] * item_per_unit_prices[i]) + total_cost\n",
    "        print(item_copies[i], item_names[i], item_per_unit_prices[i])\n",
    "        i +=1\n",
    "        \n",
    "\n",
    "print(\"Total Cost: \", total_cost)"
   ]
  },
  {
   "cell_type": "markdown",
   "metadata": {},
   "source": [
    "---\n",
    "## Assignment Wrap-up\n",
    "\n",
    "Please fill out the following Google Form before you submit your assignment. **You must completely fill this out in order to receive credit for the assignment!**\n",
    "\n",
    "**COMPLETE THIS SURVEY through [this link](https://forms.office.com/Pages/ResponsePage.aspx?id=MHEXIi9k2UGSEXQjetVofWtNmJF3VV1Ko4OWA1RPCNZUMldQTUc2Tk9WNFBONUxURFhHT0hWTlNFWS4u) or through cell below.**\n"
   ]
  },
  {
   "cell_type": "code",
   "execution_count": 69,
   "metadata": {},
   "outputs": [
    {
     "data": {
      "text/html": [
       "\n",
       "<iframe \n",
       "\tsrc=\"https://forms.office.com/Pages/ResponsePage.aspx?id=MHEXIi9k2UGSEXQjetVofWtNmJF3VV1Ko4OWA1RPCNZUMldQTUc2Tk9WNFBONUxURFhHT0hWTlNFWS4u\" \n",
       "\twidth=\"80%\" \n",
       "\theight=\"1200px\" \n",
       "\tframeborder=\"0\" \n",
       "\tmarginheight=\"0\" \n",
       "\tmarginwidth=\"0\">\n",
       "\tLoading...\n",
       "</iframe>\n"
      ],
      "text/plain": [
       "<IPython.core.display.HTML object>"
      ]
     },
     "execution_count": 69,
     "metadata": {},
     "output_type": "execute_result"
    }
   ],
   "source": [
    "from IPython.display import HTML\n",
    "HTML(\n",
    "\"\"\"\n",
    "<iframe \n",
    "\tsrc=\"https://forms.office.com/Pages/ResponsePage.aspx?id=MHEXIi9k2UGSEXQjetVofWtNmJF3VV1Ko4OWA1RPCNZUMldQTUc2Tk9WNFBONUxURFhHT0hWTlNFWS4u\" \n",
    "\twidth=\"80%\" \n",
    "\theight=\"1200px\" \n",
    "\tframeborder=\"0\" \n",
    "\tmarginheight=\"0\" \n",
    "\tmarginwidth=\"0\">\n",
    "\tLoading...\n",
    "</iframe>\n",
    "\"\"\"\n",
    ")"
   ]
  },
  {
   "cell_type": "markdown",
   "metadata": {},
   "source": [
    "---\n",
    "\n",
    "### Congratulations, you're done!\n",
    "\n",
    "Submit this assignment by uploading it to the course Desire2Learn web page.  Go to the \"Homework Assignments\" section, find the submission folder link for Homework #1, and upload it there."
   ]
  },
  {
   "cell_type": "markdown",
   "metadata": {},
   "source": []
  },
  {
   "cell_type": "code",
   "execution_count": null,
   "metadata": {},
   "outputs": [],
   "source": []
  }
 ],
 "metadata": {
  "kernelspec": {
   "display_name": "Python 3",
   "language": "python",
   "name": "python3"
  },
  "language_info": {
   "codemirror_mode": {
    "name": "ipython",
    "version": 3
   },
   "file_extension": ".py",
   "mimetype": "text/x-python",
   "name": "python",
   "nbconvert_exporter": "python",
   "pygments_lexer": "ipython3",
   "version": "3.8.8"
  }
 },
 "nbformat": 4,
 "nbformat_minor": 4
}
